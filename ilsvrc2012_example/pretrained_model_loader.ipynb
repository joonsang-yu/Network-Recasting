{
 "cells": [
  {
   "cell_type": "code",
   "execution_count": 1,
   "metadata": {},
   "outputs": [],
   "source": [
    "import os\n",
    "# os.environ[\"CUDA_VISIBLE_DEVICES\"] = '0'\n",
    "os.environ[\"CUDA_VISIBLE_DEVICES\"] = '1'"
   ]
  },
  {
   "cell_type": "code",
   "execution_count": 2,
   "metadata": {},
   "outputs": [],
   "source": [
    "import torch\n",
    "import torchvision\n",
    "import torchvision.transforms as transforms\n",
    "import torchvision.datasets as datasets\n",
    "import torchvision.models as pretrained_models\n",
    "\n",
    "import torch.optim as optim\n",
    "import torch.optim.lr_scheduler as lr_scheduler\n",
    "\n",
    "from torch.autograd import Variable\n",
    "import torch.nn as nn\n",
    "import torch.nn.functional as F\n",
    "\n",
    "import numpy as np"
   ]
  },
  {
   "cell_type": "code",
   "execution_count": 3,
   "metadata": {},
   "outputs": [],
   "source": [
    "import sys\n",
    "sys.path.append(\"../common\")\n",
    "\n",
    "from Model_config import Models\n",
    "from Net import Net\n",
    "import LoaderUtil as util"
   ]
  },
  {
   "cell_type": "markdown",
   "metadata": {},
   "source": [
    "## Set configuration"
   ]
  },
  {
   "cell_type": "code",
   "execution_count": 4,
   "metadata": {},
   "outputs": [],
   "source": [
    "# batch_size should be less than 50 for VGG-16\n",
    "batch_size = 32"
   ]
  },
  {
   "cell_type": "markdown",
   "metadata": {},
   "source": [
    "## Load dataset"
   ]
  },
  {
   "cell_type": "code",
   "execution_count": 5,
   "metadata": {},
   "outputs": [
    {
     "name": "stdout",
     "output_type": "stream",
     "text": [
      "num_train_classes = '1000'\n",
      "num_valid_classes = '1000'\n"
     ]
    }
   ],
   "source": [
    "traindir = os.path.join('/home/data/ILSVRC2012/images', 'train')\n",
    "valdir = os.path.join('/home/data/ILSVRC2012/images', 'val')\n",
    "\n",
    "normalize = transforms.Normalize(mean=[0.485, 0.456, 0.406], std=[0.229, 0.224, 0.225])\n",
    "\n",
    "transform_train = transforms.Compose([\n",
    "            transforms.RandomResizedCrop(224),\n",
    "            transforms.RandomHorizontalFlip(),\n",
    "            transforms.ToTensor(),\n",
    "            normalize,\n",
    "        ])\n",
    "\n",
    "transform_test = transforms.Compose([\n",
    "            transforms.Resize(256),\n",
    "            transforms.CenterCrop(224),\n",
    "            transforms.ToTensor(),\n",
    "            normalize,\n",
    "        ])\n",
    "\n",
    "trainset = datasets.ImageFolder(root=traindir, transform=transform_train)\n",
    "testset = datasets.ImageFolder(root=valdir, transform=transform_test)\n",
    "\n",
    "trainloader = torch.utils.data.DataLoader(trainset, batch_size=batch_size, shuffle=True, num_workers=2)\n",
    "testloader = torch.utils.data.DataLoader(testset, batch_size=batch_size, shuffle=False, num_workers=2)\n",
    "\n",
    "num_train_classes = len([name for name in os.listdir(traindir)])\n",
    "num_valid_classes = len([name for name in os.listdir(valdir)])\n",
    "\n",
    "print(\"num_train_classes = '{}'\".format(num_train_classes))\n",
    "print(\"num_valid_classes = '{}'\".format(num_valid_classes))"
   ]
  },
  {
   "cell_type": "markdown",
   "metadata": {},
   "source": [
    "## (Resenet18) load params and test "
   ]
  },
  {
   "cell_type": "code",
   "execution_count": 6,
   "metadata": {
    "scrolled": true
   },
   "outputs": [
    {
     "name": "stdout",
     "output_type": "stream",
     "text": [
      "pre-trained resnet18 is loaded\n"
     ]
    }
   ],
   "source": [
    "resnet = pretrained_models.resnet18(num_classes=1000, pretrained='imagenet')\n",
    "\n",
    "print('pre-trained resnet18 is loaded')"
   ]
  },
  {
   "cell_type": "code",
   "execution_count": 7,
   "metadata": {},
   "outputs": [],
   "source": [
    "net = []\n",
    "\n",
    "b = util.ConvBlockLoader(resnet.conv1, resnet.bn1, resnet.relu)\n",
    "\n",
    "net.append(b)\n",
    "\n",
    "net.append(resnet.maxpool)\n",
    "\n",
    "for x in resnet.layer1:\n",
    "    block = util.BasicBlockLoader(x)\n",
    "    net.append(block)\n",
    "    \n",
    "for x in resnet.layer2:\n",
    "    block = util.BasicBlockLoader(x)\n",
    "    net.append(block)\n",
    "    \n",
    "for x in resnet.layer3:\n",
    "    block = util.BasicBlockLoader(x)\n",
    "    net.append(block)\n",
    "    \n",
    "for x in resnet.layer4:\n",
    "    block = util.BasicBlockLoader(x)\n",
    "    net.append(block)\n",
    "    \n",
    "net.append(resnet.avgpool)\n",
    "\n",
    "net.append('Flatten')\n",
    "\n",
    "b = util.FCBlockLoader(resnet.fc, option = 'FCOnly')\n",
    "net.append(b)"
   ]
  },
  {
   "cell_type": "code",
   "execution_count": 8,
   "metadata": {},
   "outputs": [
    {
     "name": "stdout",
     "output_type": "stream",
     "text": [
      "Model saved\n"
     ]
    }
   ],
   "source": [
    "model_gen = Models(dropout = False, batchnorm = True)\n",
    "model_gen.ImagenetResnetConfig(num_layers = 18)\n",
    "\n",
    "model = model_gen.GetImagenetResnet()\n",
    "resnet18 = Net(model)\n",
    "\n",
    "resnet18.LoadFromTorchvision(net)\n",
    "\n",
    "torch.save(resnet18.GetStateDict(), './imagenet_resnet18_pretrained.pth')\n",
    "\n",
    "print('Model saved')"
   ]
  },
  {
   "cell_type": "code",
   "execution_count": 9,
   "metadata": {},
   "outputs": [
    {
     "name": "stdout",
     "output_type": "stream",
     "text": [
      "Reload model for the verification\n"
     ]
    }
   ],
   "source": [
    "model_gen = Models(dropout = False, batchnorm = True)\n",
    "model_gen.ImagenetResnetConfig(num_layers = 18)\n",
    "\n",
    "model = model_gen.GetImagenetResnet()\n",
    "resnet18 = Net(model)\n",
    "\n",
    "state = torch.load('./imagenet_resnet18_pretrained.pth')\n",
    "resnet18.LoadFromStateDict(state)\n",
    "\n",
    "print('Reload model for the verification')"
   ]
  },
  {
   "cell_type": "code",
   "execution_count": 10,
   "metadata": {},
   "outputs": [
    {
     "name": "stdout",
     "output_type": "stream",
     "text": [
      "Inference for test set\n",
      ". . . . . . . . . . . . . . . . . . . . . . . . . . . . . . . . \n",
      "\n",
      "Top1 Acc: 69.76 %, Top5 Acc: 89.08 %\n"
     ]
    }
   ],
   "source": [
    "correct = 0\n",
    "correct_top5 = 0\n",
    "correct_tmp = 0\n",
    "\n",
    "total = 0\n",
    "resnet18.TestMode()\n",
    "resnet18.Gpu()\n",
    "\n",
    "print('Inference for test set')\n",
    "\n",
    "for i, data in enumerate(testloader, 0):\n",
    "    images, labels = data\n",
    "\n",
    "    outputs = resnet18(Variable(images.cuda()))\n",
    "    _, predicted = torch.max(outputs.data, 1)\n",
    "\n",
    "    total += labels.size(0)\n",
    "    correct += (predicted == labels.cuda()).sum()\n",
    "    \n",
    "    _, predicted_top5 = torch.topk(outputs.data, 5)\n",
    "    predicted_top5 = predicted_top5.t()\n",
    "    predicted_top5_mat = predicted_top5.eq(labels.cuda().view(1,-1).expand_as(predicted_top5))\n",
    "\n",
    "    for k in (1,5):\n",
    "        correct_tmp = predicted_top5_mat[:k].view(-1).float().sum(0, keepdim=True)\n",
    "    \n",
    "    correct_top5 += correct_tmp[0]\n",
    "\n",
    "    if i % 50 == 0:\n",
    "        print ('.', end=' ')\n",
    "\n",
    "print ('\\n')\n",
    "print('Top1 Acc: %4.2f %%, Top5 Acc: %4.2f %%' %(100 * correct / total, 100 * correct_top5 / total))"
   ]
  },
  {
   "cell_type": "markdown",
   "metadata": {},
   "source": [
    "## (Resenet34) load params and test"
   ]
  },
  {
   "cell_type": "code",
   "execution_count": 11,
   "metadata": {},
   "outputs": [
    {
     "name": "stdout",
     "output_type": "stream",
     "text": [
      "pre-trained resnet34 is loaded\n"
     ]
    }
   ],
   "source": [
    "resnet = pretrained_models.resnet34(num_classes=1000, pretrained='imagenet')\n",
    "\n",
    "print('pre-trained resnet34 is loaded')"
   ]
  },
  {
   "cell_type": "code",
   "execution_count": 12,
   "metadata": {},
   "outputs": [],
   "source": [
    "net = []\n",
    "\n",
    "b = util.ConvBlockLoader(resnet.conv1, resnet.bn1, resnet.relu)\n",
    "\n",
    "net.append(b)\n",
    "\n",
    "net.append(resnet.maxpool)\n",
    "\n",
    "for x in resnet.layer1:\n",
    "    block = util.BasicBlockLoader(x)\n",
    "    net.append(block)\n",
    "    \n",
    "for x in resnet.layer2:\n",
    "    block = util.BasicBlockLoader(x)\n",
    "    net.append(block)\n",
    "    \n",
    "for x in resnet.layer3:\n",
    "    block = util.BasicBlockLoader(x)\n",
    "    net.append(block)\n",
    "    \n",
    "for x in resnet.layer4:\n",
    "    block = util.BasicBlockLoader(x)\n",
    "    net.append(block)\n",
    "    \n",
    "net.append(resnet.avgpool)\n",
    "\n",
    "net.append('Flatten')\n",
    "\n",
    "b = util.FCBlockLoader(resnet.fc, option = 'FCOnly')\n",
    "net.append(b)"
   ]
  },
  {
   "cell_type": "code",
   "execution_count": 13,
   "metadata": {},
   "outputs": [
    {
     "name": "stdout",
     "output_type": "stream",
     "text": [
      "Model saved\n"
     ]
    }
   ],
   "source": [
    "model_gen = Models(dropout = False, batchnorm = True)\n",
    "model_gen.ImagenetResnetConfig(num_layers = 34)\n",
    "\n",
    "model = model_gen.GetImagenetResnet()\n",
    "resnet34 = Net(model)\n",
    "\n",
    "resnet34.LoadFromTorchvision(net)\n",
    "\n",
    "torch.save(resnet34.GetStateDict(), './imagenet_resnet34_pretrained.pth')\n",
    "\n",
    "print('Model saved')"
   ]
  },
  {
   "cell_type": "code",
   "execution_count": 14,
   "metadata": {},
   "outputs": [
    {
     "name": "stdout",
     "output_type": "stream",
     "text": [
      "Reload model for the verification\n"
     ]
    }
   ],
   "source": [
    "model_gen = Models(dropout = False, batchnorm = True)\n",
    "model_gen.ImagenetResnetConfig(num_layers = 34)\n",
    "\n",
    "model = model_gen.GetImagenetResnet()\n",
    "resnet34 = Net(model)\n",
    "\n",
    "state = torch.load('./imagenet_resnet34_pretrained.pth')\n",
    "resnet34.LoadFromStateDict(state)\n",
    "\n",
    "print('Reload model for the verification')"
   ]
  },
  {
   "cell_type": "code",
   "execution_count": 15,
   "metadata": {},
   "outputs": [
    {
     "name": "stdout",
     "output_type": "stream",
     "text": [
      "Inference for test set\n",
      ". . . . . . . . . . . . . . . . . . . . . . . . . . . . . . . . \n",
      "\n",
      "Top1 Acc: 73.31 %, Top5 Acc: 91.42 %\n"
     ]
    }
   ],
   "source": [
    "correct = 0\n",
    "correct_top5 = 0\n",
    "correct_tmp = 0\n",
    "\n",
    "total = 0\n",
    "\n",
    "resnet34.TestMode()\n",
    "resnet34.Gpu()\n",
    "\n",
    "print('Inference for test set')\n",
    "\n",
    "for i, data in enumerate(testloader, 0):\n",
    "    images, labels = data\n",
    "\n",
    "    outputs = resnet34(Variable(images.cuda()))\n",
    "    _, predicted = torch.max(outputs.data, 1)\n",
    "\n",
    "    total += labels.size(0)\n",
    "    correct += (predicted == labels.cuda()).sum()\n",
    "    \n",
    "    _, predicted_top5 = torch.topk(outputs.data, 5)\n",
    "    predicted_top5 = predicted_top5.t()\n",
    "    predicted_top5_mat = predicted_top5.eq(labels.cuda().view(1,-1).expand_as(predicted_top5))\n",
    "\n",
    "    for k in (1,5):\n",
    "        correct_tmp = predicted_top5_mat[:k].view(-1).float().sum(0, keepdim=True)\n",
    "    \n",
    "    correct_top5 += correct_tmp[0]\n",
    "\n",
    "    if i % 50 == 0:\n",
    "        print ('.', end=' ')\n",
    "\n",
    "print ('\\n')\n",
    "print('Top1 Acc: %4.2f %%, Top5 Acc: %4.2f %%' %(100 * correct / total, 100 * correct_top5 / total))"
   ]
  },
  {
   "cell_type": "markdown",
   "metadata": {},
   "source": [
    "## (VGG16_BN) load params and test"
   ]
  },
  {
   "cell_type": "code",
   "execution_count": 16,
   "metadata": {},
   "outputs": [
    {
     "name": "stdout",
     "output_type": "stream",
     "text": [
      "pre-trained model is loaded\n"
     ]
    }
   ],
   "source": [
    "vggnet = pretrained_models.vgg16_bn(num_classes=1000, pretrained='imagenet')\n",
    "\n",
    "print('pre-trained model is loaded')"
   ]
  },
  {
   "cell_type": "code",
   "execution_count": 17,
   "metadata": {},
   "outputs": [],
   "source": [
    "net = []\n",
    "\n",
    "for x in vggnet.features:\n",
    "    \n",
    "    if isinstance(x, nn.Conv2d):\n",
    "        b = []\n",
    "        b.append(x)\n",
    "        b.append('ConvBlock')\n",
    "        net.append(b)\n",
    "        \n",
    "    elif isinstance(x, nn.BatchNorm2d) :\n",
    "        net[-1].insert(-1, x)\n",
    "        \n",
    "    elif isinstance(x, nn.ReLU) :\n",
    "        net[-1].insert(-1, x)\n",
    "        \n",
    "    elif isinstance(x, nn.Dropout2d) :\n",
    "        net[-1].insert(-1, x)\n",
    "        \n",
    "    else :\n",
    "        net.append(x)\n",
    "    \n",
    "net.append('Flatten')\n",
    "\n",
    "for x in vggnet.classifier:\n",
    "    if isinstance(x, nn.Linear):\n",
    "        b = []\n",
    "        b.append(x)\n",
    "        b.append('FCBlock')\n",
    "        net.append(b)\n",
    "        \n",
    "    elif isinstance(x, nn.BatchNorm1d) :\n",
    "        net[-1].insert(-1, x)\n",
    "        \n",
    "    elif isinstance(x, nn.ReLU) :\n",
    "        net[-1].insert(-1, x)\n",
    "        \n",
    "    elif isinstance(x, nn.Dropout) :\n",
    "        net[-1].insert(-1, x)\n",
    "        \n",
    "    else :\n",
    "        net.append(x)"
   ]
  },
  {
   "cell_type": "code",
   "execution_count": 18,
   "metadata": {},
   "outputs": [
    {
     "name": "stdout",
     "output_type": "stream",
     "text": [
      "Model saved\n"
     ]
    }
   ],
   "source": [
    "model_gen = Models(dropout = False, batchnorm = True)\n",
    "model_gen.ImagenetVgg16Config(dropout = False, batchnorm =True)\n",
    "\n",
    "model = model_gen.GetImagenetVgg16()\n",
    "vgg16_ = Net(model)\n",
    "\n",
    "vgg16_.LoadFromTorchvision(net)\n",
    "\n",
    "torch.save(vgg16_.GetStateDict(), './imagenet_vgg16_pretrained.pth')\n",
    "\n",
    "print('Model saved')"
   ]
  },
  {
   "cell_type": "code",
   "execution_count": 19,
   "metadata": {},
   "outputs": [
    {
     "name": "stdout",
     "output_type": "stream",
     "text": [
      "Reload model for the verification\n"
     ]
    }
   ],
   "source": [
    "model_gen = Models(dropout = False, batchnorm = True)\n",
    "model_gen.ImagenetVgg16Config(dropout = False, batchnorm =True)\n",
    "\n",
    "model = model_gen.GetImagenetVgg16()\n",
    "vgg16_ = Net(model)\n",
    "\n",
    "state = torch.load('./imagenet_vgg16_pretrained.pth')\n",
    "vgg16_.LoadFromStateDict(state)\n",
    "\n",
    "print('Reload model for the verification')"
   ]
  },
  {
   "cell_type": "code",
   "execution_count": 20,
   "metadata": {},
   "outputs": [
    {
     "name": "stdout",
     "output_type": "stream",
     "text": [
      "Inference for test set\n",
      ". . . . . . . . . . . . . . . . . . . . . . . . . . . . . . . . \n",
      "\n",
      "Top1 Acc: 73.36 %, Top5 Acc: 91.52 %\n"
     ]
    }
   ],
   "source": [
    "correct = 0\n",
    "correct_top5 = 0\n",
    "correct_tmp = 0\n",
    "\n",
    "total = 0\n",
    "\n",
    "vgg16_.TestMode()\n",
    "vgg16_.Gpu()\n",
    "\n",
    "print('Inference for test set')\n",
    "\n",
    "for i, data in enumerate(testloader, 0):\n",
    "    images, labels = data\n",
    "\n",
    "    outputs = vgg16_(Variable(images.cuda()))\n",
    "    _, predicted = torch.max(outputs.data, 1)\n",
    "\n",
    "    total += labels.size(0)\n",
    "    correct += (predicted == labels.cuda()).sum()\n",
    "    \n",
    "    _, predicted_top5 = torch.topk(outputs.data, 5)\n",
    "    predicted_top5 = predicted_top5.t()\n",
    "    predicted_top5_mat = predicted_top5.eq(labels.cuda().view(1,-1).expand_as(predicted_top5))\n",
    "\n",
    "    for k in (1,5):\n",
    "        correct_tmp = predicted_top5_mat[:k].view(-1).float().sum(0, keepdim=True)\n",
    "    \n",
    "    correct_top5 += correct_tmp[0]\n",
    "\n",
    "    if i % 50 == 0:\n",
    "        print ('.', end=' ')\n",
    "\n",
    "print ('\\n')\n",
    "print('Top1 Acc: %4.2f %%, Top5 Acc: %4.2f %%' %(100 * correct / total, 100 * correct_top5 / total))"
   ]
  },
  {
   "cell_type": "markdown",
   "metadata": {},
   "source": [
    "## ResNet-50 load"
   ]
  },
  {
   "cell_type": "code",
   "execution_count": 21,
   "metadata": {},
   "outputs": [
    {
     "name": "stdout",
     "output_type": "stream",
     "text": [
      "pre-trained resnet50 is loaded\n"
     ]
    }
   ],
   "source": [
    "resnet = pretrained_models.resnet50(num_classes=1000, pretrained='imagenet')\n",
    "\n",
    "print('pre-trained resnet50 is loaded')"
   ]
  },
  {
   "cell_type": "code",
   "execution_count": 22,
   "metadata": {},
   "outputs": [],
   "source": [
    "net = []\n",
    "\n",
    "b = util.ConvBlockLoader(resnet.conv1, resnet.bn1, resnet.relu)\n",
    "\n",
    "net.append(b)\n",
    "\n",
    "net.append(resnet.maxpool)\n",
    "\n",
    "for x in resnet.layer1:\n",
    "    block = util.BottleneckLoader(x)\n",
    "    net.append(block)\n",
    "    \n",
    "for x in resnet.layer2:\n",
    "    block = util.BottleneckLoader(x)\n",
    "    net.append(block)\n",
    "    \n",
    "for x in resnet.layer3:\n",
    "    block = util.BottleneckLoader(x)\n",
    "    net.append(block)\n",
    "    \n",
    "for x in resnet.layer4:\n",
    "    block = util.BottleneckLoader(x)\n",
    "    net.append(block)\n",
    "    \n",
    "net.append(resnet.avgpool)\n",
    "\n",
    "net.append('Flatten')\n",
    "\n",
    "b = util.FCBlockLoader(resnet.fc, option = 'FCOnly')\n",
    "net.append(b)"
   ]
  },
  {
   "cell_type": "code",
   "execution_count": 23,
   "metadata": {},
   "outputs": [
    {
     "name": "stdout",
     "output_type": "stream",
     "text": [
      "Model saved\n"
     ]
    }
   ],
   "source": [
    "model_gen = Models(dropout = False, batchnorm = True)\n",
    "model_gen.ImagenetResnetConfig(num_layers = 50, block_type = 'Bottleneck')\n",
    "\n",
    "model = model_gen.GetImagenetResnet()\n",
    "resnet50 = Net(model)\n",
    "\n",
    "resnet50.LoadFromTorchvision(net)\n",
    "\n",
    "torch.save(resnet50.GetStateDict(), './imagenet_resnet50_pretrained.pth')\n",
    "\n",
    "print('Model saved')"
   ]
  },
  {
   "cell_type": "code",
   "execution_count": 24,
   "metadata": {},
   "outputs": [
    {
     "name": "stdout",
     "output_type": "stream",
     "text": [
      "Reload model for the verification\n"
     ]
    }
   ],
   "source": [
    "model_gen = Models(dropout = False, batchnorm = True)\n",
    "model_gen.ImagenetResnetConfig(num_layers = 50, block_type = 'Bottleneck')\n",
    "\n",
    "model = model_gen.GetImagenetResnet()\n",
    "resnet50 = Net(model)\n",
    "\n",
    "state = torch.load('./imagenet_resnet50_pretrained.pth')\n",
    "resnet50.LoadFromStateDict(state)\n",
    "\n",
    "print('Reload model for the verification')"
   ]
  },
  {
   "cell_type": "code",
   "execution_count": 25,
   "metadata": {},
   "outputs": [
    {
     "name": "stdout",
     "output_type": "stream",
     "text": [
      "Inference for test set\n",
      ". . . . . . . . . . . . . . . . . . . . . . . . . . . . . . . . \n",
      "\n",
      "Top1 Acc: 76.13 %, Top5 Acc: 92.86 %\n"
     ]
    }
   ],
   "source": [
    "correct = 0\n",
    "correct_top5 = 0\n",
    "correct_tmp = 0\n",
    "\n",
    "total = 0\n",
    "\n",
    "resnet50.TestMode()\n",
    "resnet50.Gpu()\n",
    "\n",
    "print('Inference for test set')\n",
    "\n",
    "for i, data in enumerate(testloader, 0):\n",
    "    images, labels = data\n",
    "\n",
    "    outputs = resnet50(Variable(images.cuda()))\n",
    "    _, predicted = torch.max(outputs.data, 1)\n",
    "\n",
    "    total += labels.size(0)\n",
    "    correct += (predicted == labels.cuda()).sum()\n",
    "    \n",
    "    _, predicted_top5 = torch.topk(outputs.data, 5)\n",
    "    predicted_top5 = predicted_top5.t()\n",
    "    predicted_top5_mat = predicted_top5.eq(labels.cuda().view(1,-1).expand_as(predicted_top5))\n",
    "\n",
    "    for k in (1,5):\n",
    "        correct_tmp = predicted_top5_mat[:k].view(-1).float().sum(0, keepdim=True)\n",
    "    \n",
    "    correct_top5 += correct_tmp[0]\n",
    "\n",
    "    if i % 50 == 0:\n",
    "        print ('.', end=' ')\n",
    "\n",
    "print ('\\n')\n",
    "print('Top1 Acc: %4.2f %%, Top5 Acc: %4.2f %%' %(100 * correct / total, 100 * correct_top5 / total))"
   ]
  },
  {
   "cell_type": "markdown",
   "metadata": {},
   "source": [
    "## DenseNet 121"
   ]
  },
  {
   "cell_type": "code",
   "execution_count": 26,
   "metadata": {},
   "outputs": [
    {
     "name": "stdout",
     "output_type": "stream",
     "text": [
      "pre-trained densenet121 is loaded\n"
     ]
    }
   ],
   "source": [
    "densenet = pretrained_models.densenet121(num_classes=1000, pretrained='imagenet')\n",
    "\n",
    "print('pre-trained densenet121 is loaded')"
   ]
  },
  {
   "cell_type": "code",
   "execution_count": 27,
   "metadata": {},
   "outputs": [],
   "source": [
    "net = []\n",
    "\n",
    "features = densenet.features\n",
    "\n",
    "b = []\n",
    "b = util.ConvBlockLoader(features.conv0, features.norm0, features.relu0)\n",
    "\n",
    "net.append(b)\n",
    "\n",
    "net.append(features.pool0)\n",
    "\n",
    "b = util.DenseBlockLoader(features.denseblock1, features.transition1.norm, features.transition1.relu)\n",
    "net.append(b)\n",
    "\n",
    "b = util.TransitionLoader(features.transition1)\n",
    "net.append(b)\n",
    "\n",
    "net.append(features.transition1.pool)\n",
    "\n",
    "b = util.DenseBlockLoader(features.denseblock2, features.transition2.norm, features.transition2.relu)\n",
    "net.append(b)\n",
    "\n",
    "b = util.TransitionLoader(features.transition2)\n",
    "net.append(b)\n",
    "\n",
    "net.append(features.transition2.pool)\n",
    "\n",
    "b = util.DenseBlockLoader(features.denseblock3, features.transition3.norm, features.transition3.relu)\n",
    "net.append(b)\n",
    "\n",
    "b = util.TransitionLoader(features.transition3)\n",
    "net.append(b)\n",
    "\n",
    "net.append(features.transition2.pool)\n",
    "\n",
    "b = util.DenseBlockLoader(features.denseblock4, features.norm5)\n",
    "net.append(b)\n",
    "\n",
    "net.append(nn.AvgPool2d(kernel_size=7, stride=7, padding=0, ceil_mode=False, count_include_pad=True))\n",
    "\n",
    "net.append('Flatten')\n",
    "\n",
    "b = util.FCBlockLoader(densenet.classifier, option = 'FCOnly')\n",
    "net.append(b)"
   ]
  },
  {
   "cell_type": "code",
   "execution_count": 28,
   "metadata": {},
   "outputs": [
    {
     "name": "stdout",
     "output_type": "stream",
     "text": [
      "Model saved\n"
     ]
    }
   ],
   "source": [
    "model_gen = Models(dropout = False, batchnorm = True)\n",
    "model_gen.ImagenetDensenetConfig(num_layers = 121)\n",
    "\n",
    "model = model_gen.GetImagenetDensenet()\n",
    "densenet121 = Net(model)\n",
    "\n",
    "densenet121.LoadFromTorchvision(net)\n",
    "\n",
    "torch.save(densenet121.GetStateDict(), './imagenet_densenet121_pretrained.pth')\n",
    "\n",
    "print('Model saved')"
   ]
  },
  {
   "cell_type": "code",
   "execution_count": 29,
   "metadata": {},
   "outputs": [
    {
     "name": "stdout",
     "output_type": "stream",
     "text": [
      "Reload model for the verification\n"
     ]
    }
   ],
   "source": [
    "model_gen = Models(dropout = False, batchnorm = True)\n",
    "model_gen.ImagenetDensenetConfig(num_layers = 121)\n",
    "\n",
    "model = model_gen.GetImagenetDensenet()\n",
    "densenet121 = Net(model)\n",
    "\n",
    "state = torch.load('./imagenet_densenet121_pretrained.pth')\n",
    "densenet121.LoadFromStateDict(state)\n",
    "\n",
    "print('Reload model for the verification')"
   ]
  },
  {
   "cell_type": "code",
   "execution_count": 30,
   "metadata": {},
   "outputs": [
    {
     "name": "stdout",
     "output_type": "stream",
     "text": [
      "Inference for test set\n",
      ". . . . . . . . . . . . . . . . . . . . . . . . . . . . . . . . \n",
      "\n",
      "Top1 Acc: 74.43 %, Top5 Acc: 91.97 %\n"
     ]
    }
   ],
   "source": [
    "correct = 0\n",
    "correct_top5 = 0\n",
    "correct_tmp = 0\n",
    "\n",
    "total = 0\n",
    "\n",
    "densenet121.TestMode()\n",
    "densenet121.Gpu()\n",
    "\n",
    "print('Inference for test set')\n",
    "\n",
    "for i, data in enumerate(testloader, 0):\n",
    "    images, labels = data\n",
    "\n",
    "    outputs = densenet121(Variable(images.cuda()))\n",
    "    _, predicted = torch.max(outputs.data, 1)\n",
    "\n",
    "    total += labels.size(0)\n",
    "    correct += (predicted == labels.cuda()).sum()\n",
    "    \n",
    "    _, predicted_top5 = torch.topk(outputs.data, 5)\n",
    "    predicted_top5 = predicted_top5.t()\n",
    "    predicted_top5_mat = predicted_top5.eq(labels.cuda().view(1,-1).expand_as(predicted_top5))\n",
    "\n",
    "    for k in (1,5):\n",
    "        correct_tmp = predicted_top5_mat[:k].view(-1).float().sum(0, keepdim=True)\n",
    "    \n",
    "    correct_top5 += correct_tmp[0]\n",
    "\n",
    "    if i % 50 == 0:\n",
    "        print ('.', end=' ')\n",
    "\n",
    "print ('\\n')\n",
    "print('Top1 Acc: %4.2f %%, Top5 Acc: %4.2f %%' %(100 * correct / total, 100 * correct_top5 / total))"
   ]
  }
 ],
 "metadata": {
  "kernelspec": {
   "display_name": "Python 3",
   "language": "python",
   "name": "python3"
  },
  "language_info": {
   "codemirror_mode": {
    "name": "ipython",
    "version": 3
   },
   "file_extension": ".py",
   "mimetype": "text/x-python",
   "name": "python",
   "nbconvert_exporter": "python",
   "pygments_lexer": "ipython3",
   "version": "3.5.2"
  }
 },
 "nbformat": 4,
 "nbformat_minor": 2
}
