{
 "cells": [
  {
   "cell_type": "markdown",
   "metadata": {},
   "source": [
    "## Import torch and model"
   ]
  },
  {
   "cell_type": "code",
   "execution_count": 1,
   "metadata": {},
   "outputs": [],
   "source": [
    "import os\n",
    "os.environ[\"CUDA_VISIBLE_DEVICES\"] = '1'"
   ]
  },
  {
   "cell_type": "code",
   "execution_count": 2,
   "metadata": {},
   "outputs": [],
   "source": [
    "import torch\n",
    "import torchvision\n",
    "import torchvision.transforms as transforms\n",
    "import torch.optim as optim\n",
    "import torch.optim.lr_scheduler as lr_scheduler\n",
    "from torch.autograd import Variable\n",
    "import torch.nn as nn\n",
    "import torch.nn.functional as F\n",
    "\n",
    "import numpy as np"
   ]
  },
  {
   "cell_type": "code",
   "execution_count": 3,
   "metadata": {},
   "outputs": [],
   "source": [
    "import sys\n",
    "sys.path.append(\"../common\")\n",
    "\n",
    "from model_generator import ModelGenerator\n",
    "from net import Net"
   ]
  },
  {
   "cell_type": "markdown",
   "metadata": {},
   "source": [
    "## Set hyper params"
   ]
  },
  {
   "cell_type": "code",
   "execution_count": 4,
   "metadata": {},
   "outputs": [],
   "source": [
    "batch_size = 128\n",
    "num_epoch  = 180\n",
    "\n",
    "lr = 0.1\n",
    "gamma = 0.2             # learning rate decay\n",
    "weight_decay = 0.0001\n",
    "\n",
    "## for SGD\n",
    "opt_momentum = 0.9\n",
    "opt_nesterov = True\n",
    "\n",
    "dropout_on = False\n",
    "batchnorm_on = True \n",
    "\n",
    "scheduler_step_size = [60, 120, 150]\n",
    "\n",
    "pretrained_model       = './cifar100_resnet56_pretrained.pth'"
   ]
  },
  {
   "cell_type": "markdown",
   "metadata": {},
   "source": [
    "## Load dataset"
   ]
  },
  {
   "cell_type": "code",
   "execution_count": 5,
   "metadata": {},
   "outputs": [
    {
     "name": "stdout",
     "output_type": "stream",
     "text": [
      "Files already downloaded and verified\n",
      "Files already downloaded and verified\n"
     ]
    }
   ],
   "source": [
    "transform = transforms.Compose(\n",
    "    [transforms.ToTensor(),\n",
    "     transforms.Normalize(mean=(0.4914, 0.4822, 0.4465), std=(0.2023, 0.1994, 0.2010))])\n",
    "\n",
    "transform_train = transforms.Compose(\n",
    "    [transforms.RandomHorizontalFlip(),\n",
    "     transforms.RandomCrop(32, 4),\n",
    "     transforms.ToTensor(),\n",
    "     transforms.Normalize(mean=(0.4914, 0.4822, 0.4465), std=(0.2023, 0.1994, 0.2010))])\n",
    "\n",
    "trainset = torchvision.datasets.CIFAR100(root='./data', train=True,\n",
    "                                        download=True, transform=transform_train)\n",
    "trainloader = torch.utils.data.DataLoader(trainset, batch_size=batch_size,\n",
    "                                          shuffle=True, num_workers=2)\n",
    "\n",
    "testset = torchvision.datasets.CIFAR100(root='./data', train=False,\n",
    "                                       download=True, transform=transform)\n",
    "testloader = torch.utils.data.DataLoader(testset, batch_size=batch_size,\n",
    "                                         shuffle=False, num_workers=2)\n",
    "\n",
    "classes = ('plane', 'car', 'bird', 'cat',\n",
    "           'deer', 'dog', 'frog', 'horse', 'ship', 'truck')"
   ]
  },
  {
   "cell_type": "markdown",
   "metadata": {},
   "source": [
    "## (Resnet56) model"
   ]
  },
  {
   "cell_type": "code",
   "execution_count": 6,
   "metadata": {},
   "outputs": [],
   "source": [
    "model_gen = ModelGenerator(dropout = dropout_on, batchnorm = batchnorm_on)\n",
    "\n",
    "model_gen.CifarResnetConfig(num_layers = 56, cifar = 100)\n",
    "model = model_gen.GetCifarResnet()\n",
    "\n",
    "net = Net(model)\n",
    "\n",
    "net.Gpu()"
   ]
  },
  {
   "cell_type": "code",
   "execution_count": 7,
   "metadata": {},
   "outputs": [],
   "source": [
    "criterion = nn.CrossEntropyLoss()\n",
    "\n",
    "optimizer = optim.SGD(net.GetTotalParams(), lr=lr, weight_decay=weight_decay, momentum=opt_momentum, nesterov=opt_nesterov )\n",
    "\n",
    "scheduler = lr_scheduler.MultiStepLR(optimizer, milestones = scheduler_step_size, gamma = gamma)"
   ]
  },
  {
   "cell_type": "code",
   "execution_count": 8,
   "metadata": {
    "scrolled": true
   },
   "outputs": [
    {
     "name": "stdout",
     "output_type": "stream",
     "text": [
      "1 epoch end, loss: 4.005834, Test Acc: 11.74 %\n",
      "2 epoch end, loss: 3.378891, Test Acc: 21.28 %\n",
      "3 epoch end, loss: 2.912839, Test Acc: 25.34 %\n",
      "4 epoch end, loss: 2.555351, Test Acc: 34.30 %\n",
      "5 epoch end, loss: 2.314694, Test Acc: 34.63 %\n",
      "6 epoch end, loss: 2.134416, Test Acc: 40.12 %\n",
      "7 epoch end, loss: 1.977506, Test Acc: 42.94 %\n",
      "8 epoch end, loss: 1.871201, Test Acc: 44.84 %\n",
      "9 epoch end, loss: 1.758121, Test Acc: 46.41 %\n",
      "10 epoch end, loss: 1.674446, Test Acc: 49.89 %\n",
      "11 epoch end, loss: 1.593361, Test Acc: 49.22 %\n",
      "12 epoch end, loss: 1.527852, Test Acc: 50.64 %\n",
      "13 epoch end, loss: 1.477492, Test Acc: 51.38 %\n",
      "14 epoch end, loss: 1.425636, Test Acc: 50.88 %\n",
      "15 epoch end, loss: 1.381236, Test Acc: 50.42 %\n",
      "16 epoch end, loss: 1.332052, Test Acc: 55.32 %\n",
      "17 epoch end, loss: 1.300440, Test Acc: 55.13 %\n",
      "18 epoch end, loss: 1.262632, Test Acc: 55.69 %\n",
      "19 epoch end, loss: 1.233343, Test Acc: 55.86 %\n",
      "20 epoch end, loss: 1.198897, Test Acc: 55.00 %\n",
      "21 epoch end, loss: 1.175391, Test Acc: 57.44 %\n",
      "22 epoch end, loss: 1.149304, Test Acc: 56.67 %\n",
      "23 epoch end, loss: 1.126429, Test Acc: 55.26 %\n",
      "24 epoch end, loss: 1.108206, Test Acc: 56.67 %\n",
      "25 epoch end, loss: 1.082963, Test Acc: 57.03 %\n",
      "26 epoch end, loss: 1.059195, Test Acc: 57.15 %\n",
      "27 epoch end, loss: 1.047161, Test Acc: 57.81 %\n",
      "28 epoch end, loss: 1.036094, Test Acc: 56.93 %\n",
      "29 epoch end, loss: 1.020046, Test Acc: 55.17 %\n",
      "30 epoch end, loss: 0.998354, Test Acc: 57.38 %\n",
      "31 epoch end, loss: 0.990470, Test Acc: 58.79 %\n",
      "32 epoch end, loss: 0.970634, Test Acc: 59.85 %\n",
      "33 epoch end, loss: 0.961927, Test Acc: 60.61 %\n",
      "34 epoch end, loss: 0.948231, Test Acc: 58.22 %\n",
      "35 epoch end, loss: 0.935337, Test Acc: 56.33 %\n",
      "36 epoch end, loss: 0.926567, Test Acc: 57.82 %\n",
      "37 epoch end, loss: 0.913870, Test Acc: 59.11 %\n",
      "38 epoch end, loss: 0.906283, Test Acc: 59.65 %\n",
      "39 epoch end, loss: 0.896946, Test Acc: 60.08 %\n",
      "40 epoch end, loss: 0.882912, Test Acc: 59.19 %\n",
      "41 epoch end, loss: 0.877323, Test Acc: 58.48 %\n",
      "42 epoch end, loss: 0.872550, Test Acc: 59.91 %\n",
      "43 epoch end, loss: 0.854048, Test Acc: 60.76 %\n",
      "44 epoch end, loss: 0.852101, Test Acc: 61.22 %\n",
      "45 epoch end, loss: 0.845705, Test Acc: 59.34 %\n",
      "46 epoch end, loss: 0.838024, Test Acc: 60.26 %\n",
      "47 epoch end, loss: 0.825902, Test Acc: 60.08 %\n",
      "48 epoch end, loss: 0.833704, Test Acc: 59.40 %\n",
      "49 epoch end, loss: 0.814449, Test Acc: 61.17 %\n",
      "50 epoch end, loss: 0.809087, Test Acc: 60.92 %\n",
      "51 epoch end, loss: 0.812295, Test Acc: 58.71 %\n",
      "52 epoch end, loss: 0.804477, Test Acc: 61.74 %\n",
      "53 epoch end, loss: 0.793020, Test Acc: 60.96 %\n",
      "54 epoch end, loss: 0.790847, Test Acc: 61.34 %\n",
      "55 epoch end, loss: 0.786590, Test Acc: 61.56 %\n",
      "56 epoch end, loss: 0.781168, Test Acc: 60.71 %\n",
      "57 epoch end, loss: 0.777022, Test Acc: 59.53 %\n",
      "58 epoch end, loss: 0.775242, Test Acc: 59.15 %\n",
      "59 epoch end, loss: 0.764852, Test Acc: 60.38 %\n",
      "60 epoch end, loss: 0.767512, Test Acc: 62.21 %\n",
      "61 epoch end, loss: 0.478588, Test Acc: 68.69 %\n",
      "62 epoch end, loss: 0.387078, Test Acc: 69.07 %\n",
      "63 epoch end, loss: 0.348117, Test Acc: 69.19 %\n",
      "64 epoch end, loss: 0.330979, Test Acc: 69.14 %\n",
      "65 epoch end, loss: 0.310790, Test Acc: 68.65 %\n",
      "66 epoch end, loss: 0.301421, Test Acc: 69.22 %\n",
      "67 epoch end, loss: 0.284548, Test Acc: 68.72 %\n",
      "68 epoch end, loss: 0.274217, Test Acc: 68.45 %\n",
      "69 epoch end, loss: 0.267209, Test Acc: 68.44 %\n",
      "70 epoch end, loss: 0.255059, Test Acc: 68.53 %\n",
      "71 epoch end, loss: 0.251788, Test Acc: 67.79 %\n",
      "72 epoch end, loss: 0.244876, Test Acc: 67.88 %\n",
      "73 epoch end, loss: 0.241657, Test Acc: 68.19 %\n",
      "74 epoch end, loss: 0.236498, Test Acc: 68.07 %\n",
      "75 epoch end, loss: 0.234336, Test Acc: 67.63 %\n",
      "76 epoch end, loss: 0.228652, Test Acc: 67.43 %\n",
      "77 epoch end, loss: 0.222809, Test Acc: 67.56 %\n",
      "78 epoch end, loss: 0.227421, Test Acc: 67.78 %\n",
      "79 epoch end, loss: 0.220278, Test Acc: 67.29 %\n",
      "80 epoch end, loss: 0.220366, Test Acc: 67.24 %\n",
      "81 epoch end, loss: 0.210667, Test Acc: 67.63 %\n",
      "82 epoch end, loss: 0.215728, Test Acc: 67.15 %\n",
      "83 epoch end, loss: 0.211849, Test Acc: 67.16 %\n",
      "84 epoch end, loss: 0.213160, Test Acc: 66.17 %\n",
      "85 epoch end, loss: 0.215044, Test Acc: 66.93 %\n",
      "86 epoch end, loss: 0.212629, Test Acc: 66.47 %\n",
      "87 epoch end, loss: 0.205235, Test Acc: 66.95 %\n",
      "88 epoch end, loss: 0.212741, Test Acc: 66.82 %\n",
      "89 epoch end, loss: 0.204543, Test Acc: 66.55 %\n",
      "90 epoch end, loss: 0.211440, Test Acc: 66.69 %\n",
      "91 epoch end, loss: 0.214558, Test Acc: 66.82 %\n",
      "92 epoch end, loss: 0.207303, Test Acc: 66.40 %\n",
      "93 epoch end, loss: 0.208586, Test Acc: 67.67 %\n",
      "94 epoch end, loss: 0.201014, Test Acc: 66.48 %\n",
      "95 epoch end, loss: 0.207747, Test Acc: 66.82 %\n",
      "96 epoch end, loss: 0.205173, Test Acc: 65.86 %\n",
      "97 epoch end, loss: 0.209565, Test Acc: 66.72 %\n",
      "98 epoch end, loss: 0.209382, Test Acc: 66.10 %\n",
      "99 epoch end, loss: 0.206149, Test Acc: 66.51 %\n",
      "100 epoch end, loss: 0.207533, Test Acc: 66.44 %\n",
      "101 epoch end, loss: 0.210306, Test Acc: 66.29 %\n",
      "102 epoch end, loss: 0.204925, Test Acc: 65.85 %\n",
      "103 epoch end, loss: 0.198054, Test Acc: 66.52 %\n",
      "104 epoch end, loss: 0.206563, Test Acc: 66.29 %\n",
      "105 epoch end, loss: 0.205734, Test Acc: 64.88 %\n",
      "106 epoch end, loss: 0.206782, Test Acc: 67.09 %\n",
      "107 epoch end, loss: 0.207286, Test Acc: 66.93 %\n",
      "108 epoch end, loss: 0.200468, Test Acc: 66.59 %\n",
      "109 epoch end, loss: 0.208384, Test Acc: 65.51 %\n",
      "110 epoch end, loss: 0.208025, Test Acc: 65.46 %\n",
      "111 epoch end, loss: 0.204686, Test Acc: 65.35 %\n",
      "112 epoch end, loss: 0.209215, Test Acc: 65.64 %\n",
      "113 epoch end, loss: 0.213829, Test Acc: 65.24 %\n",
      "114 epoch end, loss: 0.210134, Test Acc: 65.20 %\n",
      "115 epoch end, loss: 0.214385, Test Acc: 65.77 %\n",
      "116 epoch end, loss: 0.206346, Test Acc: 65.89 %\n",
      "117 epoch end, loss: 0.205465, Test Acc: 66.09 %\n",
      "118 epoch end, loss: 0.205212, Test Acc: 66.22 %\n",
      "119 epoch end, loss: 0.201738, Test Acc: 65.77 %\n",
      "120 epoch end, loss: 0.211271, Test Acc: 65.26 %\n",
      "121 epoch end, loss: 0.121036, Test Acc: 68.91 %\n",
      "122 epoch end, loss: 0.088250, Test Acc: 68.86 %\n",
      "123 epoch end, loss: 0.076980, Test Acc: 69.15 %\n",
      "124 epoch end, loss: 0.070267, Test Acc: 69.25 %\n",
      "125 epoch end, loss: 0.067832, Test Acc: 69.12 %\n",
      "126 epoch end, loss: 0.063535, Test Acc: 69.31 %\n",
      "127 epoch end, loss: 0.059960, Test Acc: 69.11 %\n",
      "128 epoch end, loss: 0.057420, Test Acc: 69.23 %\n",
      "129 epoch end, loss: 0.055680, Test Acc: 69.29 %\n",
      "130 epoch end, loss: 0.055430, Test Acc: 69.12 %\n",
      "131 epoch end, loss: 0.052598, Test Acc: 69.14 %\n",
      "132 epoch end, loss: 0.050138, Test Acc: 69.44 %\n",
      "133 epoch end, loss: 0.051137, Test Acc: 69.21 %\n",
      "134 epoch end, loss: 0.049038, Test Acc: 69.06 %\n",
      "135 epoch end, loss: 0.048653, Test Acc: 69.42 %\n",
      "136 epoch end, loss: 0.046819, Test Acc: 69.29 %\n",
      "137 epoch end, loss: 0.046129, Test Acc: 69.17 %\n",
      "138 epoch end, loss: 0.043682, Test Acc: 69.29 %\n",
      "139 epoch end, loss: 0.042558, Test Acc: 69.22 %\n",
      "140 epoch end, loss: 0.044281, Test Acc: 69.10 %\n",
      "141 epoch end, loss: 0.041933, Test Acc: 68.90 %\n",
      "142 epoch end, loss: 0.042057, Test Acc: 69.22 %\n",
      "143 epoch end, loss: 0.040661, Test Acc: 69.28 %\n",
      "144 epoch end, loss: 0.040767, Test Acc: 69.33 %\n",
      "145 epoch end, loss: 0.041556, Test Acc: 69.09 %\n",
      "146 epoch end, loss: 0.040136, Test Acc: 69.49 %\n",
      "147 epoch end, loss: 0.038988, Test Acc: 69.25 %\n",
      "148 epoch end, loss: 0.039405, Test Acc: 69.34 %\n",
      "149 epoch end, loss: 0.037416, Test Acc: 69.28 %\n",
      "150 epoch end, loss: 0.038518, Test Acc: 69.28 %\n",
      "151 epoch end, loss: 0.034941, Test Acc: 69.35 %\n",
      "152 epoch end, loss: 0.033641, Test Acc: 69.42 %\n",
      "153 epoch end, loss: 0.033021, Test Acc: 69.45 %\n",
      "154 epoch end, loss: 0.032874, Test Acc: 69.55 %\n",
      "155 epoch end, loss: 0.033266, Test Acc: 69.35 %\n",
      "156 epoch end, loss: 0.031954, Test Acc: 69.70 %\n",
      "157 epoch end, loss: 0.031581, Test Acc: 69.63 %\n",
      "158 epoch end, loss: 0.031415, Test Acc: 69.57 %\n",
      "159 epoch end, loss: 0.031857, Test Acc: 69.53 %\n",
      "160 epoch end, loss: 0.030447, Test Acc: 69.53 %\n",
      "161 epoch end, loss: 0.030884, Test Acc: 69.53 %\n",
      "162 epoch end, loss: 0.029722, Test Acc: 69.52 %\n",
      "163 epoch end, loss: 0.030840, Test Acc: 69.52 %\n",
      "164 epoch end, loss: 0.030489, Test Acc: 69.54 %\n",
      "165 epoch end, loss: 0.030406, Test Acc: 69.57 %\n",
      "166 epoch end, loss: 0.030806, Test Acc: 69.37 %\n",
      "167 epoch end, loss: 0.031774, Test Acc: 69.34 %\n",
      "168 epoch end, loss: 0.029635, Test Acc: 69.54 %\n",
      "169 epoch end, loss: 0.030242, Test Acc: 69.38 %\n",
      "170 epoch end, loss: 0.029705, Test Acc: 69.44 %\n"
     ]
    },
    {
     "name": "stdout",
     "output_type": "stream",
     "text": [
      "171 epoch end, loss: 0.030247, Test Acc: 69.58 %\n",
      "172 epoch end, loss: 0.029395, Test Acc: 69.45 %\n",
      "173 epoch end, loss: 0.029645, Test Acc: 69.61 %\n",
      "174 epoch end, loss: 0.029980, Test Acc: 69.52 %\n",
      "175 epoch end, loss: 0.030294, Test Acc: 69.60 %\n",
      "176 epoch end, loss: 0.028160, Test Acc: 69.35 %\n",
      "177 epoch end, loss: 0.029118, Test Acc: 69.61 %\n",
      "178 epoch end, loss: 0.028991, Test Acc: 69.44 %\n",
      "179 epoch end, loss: 0.029360, Test Acc: 69.31 %\n",
      "180 epoch end, loss: 0.028616, Test Acc: 69.44 %\n",
      "\n",
      "Training is finished!\n"
     ]
    }
   ],
   "source": [
    "for epoch in range(num_epoch):  # loop over the dataset multiple times\n",
    "\n",
    "    running_loss = 0.0\n",
    "    scheduler.step()\n",
    "    net.TrainMode()\n",
    "    for i, data in enumerate(trainloader, 0):\n",
    "        # get the inputs\n",
    "        inputs, labels = data\n",
    "\n",
    "        # wrap them in Variable\n",
    "        inputs = Variable(inputs.cuda())\n",
    "        labels = Variable(labels.cuda())\n",
    "\n",
    "        # zero the parameter gradients\n",
    "        optimizer.zero_grad()\n",
    "\n",
    "        # forward + backward + optimize\n",
    "        #scheduler.step()\n",
    "\n",
    "        outputs = net(inputs)\n",
    "        loss = criterion(outputs, labels)\n",
    "        loss.backward()\n",
    "        optimizer.step()\n",
    "\n",
    "        running_loss = (running_loss * i + loss.cpu().data.numpy()) / (i+1)\n",
    "\n",
    "    correct = 0\n",
    "    total = 0\n",
    "    net.TestMode()\n",
    "    for data in testloader:\n",
    "        images, labels = data\n",
    "        outputs = net(Variable(images.cuda()))\n",
    "        _, predicted = torch.max(outputs.data, 1)\n",
    "        total += labels.size(0)\n",
    "        correct += (predicted == labels.cuda()).sum()\n",
    "        \n",
    "    print('%d epoch end, loss: %3.6f, Test Acc: %4.2f %%' %(epoch + 1, running_loss, 100 * correct / total))\n",
    "    \n",
    "print('\\nTraining is finished!')"
   ]
  },
  {
   "cell_type": "code",
   "execution_count": 9,
   "metadata": {},
   "outputs": [
    {
     "name": "stdout",
     "output_type": "stream",
     "text": [
      "Accuracy of the network on the 10000 test images: 69.44 %\n"
     ]
    }
   ],
   "source": [
    "correct = 0\n",
    "total = 0\n",
    "net.TestMode()\n",
    "for data in testloader:\n",
    "    images, labels = data\n",
    "    outputs = net(Variable(images.cuda()))\n",
    "    _, predicted = torch.max(outputs.data, 1)\n",
    "    total += labels.size(0)\n",
    "    correct += (predicted == labels.cuda()).sum()\n",
    "\n",
    "print('Accuracy of the network on the 10000 test images: %4.2f %%' % (100 * correct / total))"
   ]
  },
  {
   "cell_type": "code",
   "execution_count": 10,
   "metadata": {
    "scrolled": true
   },
   "outputs": [],
   "source": [
    "torch.save(net.GetStateDict(), pretrained_model)"
   ]
  }
 ],
 "metadata": {
  "kernelspec": {
   "display_name": "Python 3",
   "language": "python",
   "name": "python3"
  },
  "language_info": {
   "codemirror_mode": {
    "name": "ipython",
    "version": 3
   },
   "file_extension": ".py",
   "mimetype": "text/x-python",
   "name": "python",
   "nbconvert_exporter": "python",
   "pygments_lexer": "ipython3",
   "version": "3.5.2"
  }
 },
 "nbformat": 4,
 "nbformat_minor": 2
}
