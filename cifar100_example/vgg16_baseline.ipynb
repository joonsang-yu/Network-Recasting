{
 "cells": [
  {
   "cell_type": "markdown",
   "metadata": {},
   "source": [
    "## Import torch and model"
   ]
  },
  {
   "cell_type": "code",
   "execution_count": 1,
   "metadata": {},
   "outputs": [],
   "source": [
    "import os\n",
    "os.environ[\"CUDA_VISIBLE_DEVICES\"] = '1'"
   ]
  },
  {
   "cell_type": "code",
   "execution_count": 2,
   "metadata": {},
   "outputs": [],
   "source": [
    "import torch\n",
    "import torchvision\n",
    "import torchvision.transforms as transforms\n",
    "import torch.optim as optim\n",
    "import torch.optim.lr_scheduler as lr_scheduler\n",
    "from torch.autograd import Variable\n",
    "import torch.nn as nn\n",
    "import torch.nn.functional as F\n",
    "\n",
    "import numpy as np"
   ]
  },
  {
   "cell_type": "code",
   "execution_count": 3,
   "metadata": {},
   "outputs": [],
   "source": [
    "import sys\n",
    "sys.path.append(\"../common\")\n",
    "\n",
    "from model_generator import ModelGenerator\n",
    "from net import Net"
   ]
  },
  {
   "cell_type": "markdown",
   "metadata": {},
   "source": [
    "## Set hyper params"
   ]
  },
  {
   "cell_type": "code",
   "execution_count": 4,
   "metadata": {},
   "outputs": [],
   "source": [
    "batch_size = 128\n",
    "num_epoch  = 180\n",
    "\n",
    "lr = 0.1\n",
    "gamma = 0.2             # learning rate decay\n",
    "weight_decay = 0.0001\n",
    "\n",
    "## for SGD\n",
    "opt_momentum = 0.9\n",
    "opt_nesterov = True\n",
    "\n",
    "dropout_on = False\n",
    "batchnorm_on = True \n",
    "\n",
    "scheduler_step_size = [60, 120, 150]\n",
    "\n",
    "pretrained_model       = './cifar100_vgg16_pretrained.pth'"
   ]
  },
  {
   "cell_type": "markdown",
   "metadata": {},
   "source": [
    "## Load dataset"
   ]
  },
  {
   "cell_type": "code",
   "execution_count": 5,
   "metadata": {},
   "outputs": [
    {
     "name": "stdout",
     "output_type": "stream",
     "text": [
      "Files already downloaded and verified\n",
      "Files already downloaded and verified\n"
     ]
    }
   ],
   "source": [
    "transform = transforms.Compose(\n",
    "    [transforms.ToTensor(),\n",
    "     transforms.Normalize(mean=(0.4914, 0.4822, 0.4465), std=(0.2023, 0.1994, 0.2010))])\n",
    "\n",
    "transform_train = transforms.Compose(\n",
    "    [transforms.RandomHorizontalFlip(),\n",
    "     transforms.RandomCrop(32, 4),\n",
    "     transforms.ToTensor(),\n",
    "     transforms.Normalize(mean=(0.4914, 0.4822, 0.4465), std=(0.2023, 0.1994, 0.2010))])\n",
    "\n",
    "trainset = torchvision.datasets.CIFAR100(root='./data', train=True,\n",
    "                                        download=True, transform=transform_train)\n",
    "trainloader = torch.utils.data.DataLoader(trainset, batch_size=batch_size,\n",
    "                                          shuffle=True, num_workers=2)\n",
    "\n",
    "testset = torchvision.datasets.CIFAR100(root='./data', train=False,\n",
    "                                       download=True, transform=transform)\n",
    "testloader = torch.utils.data.DataLoader(testset, batch_size=batch_size,\n",
    "                                         shuffle=False, num_workers=2)\n",
    "\n",
    "classes = ('plane', 'car', 'bird', 'cat',\n",
    "           'deer', 'dog', 'frog', 'horse', 'ship', 'truck')"
   ]
  },
  {
   "cell_type": "markdown",
   "metadata": {},
   "source": [
    "## VGG16 model"
   ]
  },
  {
   "cell_type": "code",
   "execution_count": 6,
   "metadata": {},
   "outputs": [],
   "source": [
    "model_gen = ModelGenerator(dropout = dropout_on, batchnorm = batchnorm_on)\n",
    "\n",
    "model_gen.CifarVgg16Config(cifar = 100)\n",
    "model = model_gen.GetCifarVgg16()\n",
    "\n",
    "net = Net(model)\n",
    "\n",
    "net.Gpu()"
   ]
  },
  {
   "cell_type": "code",
   "execution_count": 7,
   "metadata": {},
   "outputs": [],
   "source": [
    "criterion = nn.CrossEntropyLoss()\n",
    "\n",
    "optimizer = optim.SGD(net.GetTotalParams(), lr=lr, weight_decay=weight_decay, momentum=opt_momentum, nesterov=opt_nesterov )\n",
    "\n",
    "scheduler = lr_scheduler.MultiStepLR(optimizer, milestones = scheduler_step_size, gamma = gamma)"
   ]
  },
  {
   "cell_type": "code",
   "execution_count": 8,
   "metadata": {
    "scrolled": true
   },
   "outputs": [
    {
     "name": "stdout",
     "output_type": "stream",
     "text": [
      "1 epoch end, loss: 4.322362, Test Acc: 6.41 %\n",
      "2 epoch end, loss: 3.851555, Test Acc: 10.36 %\n",
      "3 epoch end, loss: 3.574304, Test Acc: 13.85 %\n",
      "4 epoch end, loss: 3.353385, Test Acc: 17.74 %\n",
      "5 epoch end, loss: 3.120760, Test Acc: 19.49 %\n",
      "6 epoch end, loss: 2.926459, Test Acc: 23.38 %\n",
      "7 epoch end, loss: 2.727441, Test Acc: 24.28 %\n",
      "8 epoch end, loss: 2.543723, Test Acc: 31.48 %\n",
      "9 epoch end, loss: 2.409509, Test Acc: 33.14 %\n",
      "10 epoch end, loss: 2.296386, Test Acc: 36.03 %\n",
      "11 epoch end, loss: 2.162784, Test Acc: 40.03 %\n",
      "12 epoch end, loss: 2.042246, Test Acc: 42.43 %\n",
      "13 epoch end, loss: 1.938158, Test Acc: 39.34 %\n",
      "14 epoch end, loss: 1.838165, Test Acc: 42.54 %\n",
      "15 epoch end, loss: 1.757666, Test Acc: 45.11 %\n",
      "16 epoch end, loss: 1.687990, Test Acc: 47.02 %\n",
      "17 epoch end, loss: 1.623376, Test Acc: 48.46 %\n",
      "18 epoch end, loss: 1.566662, Test Acc: 47.61 %\n",
      "19 epoch end, loss: 1.516931, Test Acc: 50.21 %\n",
      "20 epoch end, loss: 1.471805, Test Acc: 51.36 %\n",
      "21 epoch end, loss: 1.425209, Test Acc: 53.77 %\n",
      "22 epoch end, loss: 1.380089, Test Acc: 53.79 %\n",
      "23 epoch end, loss: 1.344796, Test Acc: 54.89 %\n",
      "24 epoch end, loss: 1.304777, Test Acc: 55.19 %\n",
      "25 epoch end, loss: 1.276405, Test Acc: 55.55 %\n",
      "26 epoch end, loss: 1.249966, Test Acc: 54.85 %\n",
      "27 epoch end, loss: 1.217235, Test Acc: 54.55 %\n",
      "28 epoch end, loss: 1.194731, Test Acc: 54.15 %\n",
      "29 epoch end, loss: 1.165783, Test Acc: 56.32 %\n",
      "30 epoch end, loss: 1.145331, Test Acc: 56.60 %\n",
      "31 epoch end, loss: 1.120216, Test Acc: 54.44 %\n",
      "32 epoch end, loss: 1.093793, Test Acc: 56.89 %\n",
      "33 epoch end, loss: 1.074186, Test Acc: 57.55 %\n",
      "34 epoch end, loss: 1.051256, Test Acc: 58.45 %\n",
      "35 epoch end, loss: 1.041659, Test Acc: 59.61 %\n",
      "36 epoch end, loss: 1.011783, Test Acc: 58.07 %\n",
      "37 epoch end, loss: 1.001921, Test Acc: 59.02 %\n",
      "38 epoch end, loss: 0.982769, Test Acc: 58.53 %\n",
      "39 epoch end, loss: 0.972388, Test Acc: 58.51 %\n",
      "40 epoch end, loss: 0.938389, Test Acc: 59.36 %\n",
      "41 epoch end, loss: 0.934601, Test Acc: 57.73 %\n",
      "42 epoch end, loss: 0.912519, Test Acc: 57.22 %\n",
      "43 epoch end, loss: 0.903029, Test Acc: 60.12 %\n",
      "44 epoch end, loss: 0.886766, Test Acc: 58.80 %\n",
      "45 epoch end, loss: 0.875123, Test Acc: 60.48 %\n",
      "46 epoch end, loss: 0.864445, Test Acc: 60.50 %\n",
      "47 epoch end, loss: 0.853404, Test Acc: 61.93 %\n",
      "48 epoch end, loss: 0.836466, Test Acc: 60.07 %\n",
      "49 epoch end, loss: 0.821962, Test Acc: 60.06 %\n",
      "50 epoch end, loss: 0.820421, Test Acc: 59.42 %\n",
      "51 epoch end, loss: 0.813039, Test Acc: 60.37 %\n",
      "52 epoch end, loss: 0.798283, Test Acc: 61.68 %\n",
      "53 epoch end, loss: 0.790703, Test Acc: 60.87 %\n",
      "54 epoch end, loss: 0.774143, Test Acc: 60.58 %\n",
      "55 epoch end, loss: 0.771251, Test Acc: 61.05 %\n",
      "56 epoch end, loss: 0.756914, Test Acc: 61.90 %\n",
      "57 epoch end, loss: 0.758725, Test Acc: 59.41 %\n",
      "58 epoch end, loss: 0.751945, Test Acc: 59.90 %\n",
      "59 epoch end, loss: 0.734864, Test Acc: 61.26 %\n",
      "60 epoch end, loss: 0.723434, Test Acc: 61.21 %\n",
      "61 epoch end, loss: 0.412231, Test Acc: 68.87 %\n",
      "62 epoch end, loss: 0.305688, Test Acc: 69.55 %\n",
      "63 epoch end, loss: 0.269695, Test Acc: 69.09 %\n",
      "64 epoch end, loss: 0.237552, Test Acc: 69.45 %\n",
      "65 epoch end, loss: 0.218462, Test Acc: 69.59 %\n",
      "66 epoch end, loss: 0.191419, Test Acc: 69.42 %\n",
      "67 epoch end, loss: 0.181686, Test Acc: 69.70 %\n",
      "68 epoch end, loss: 0.171854, Test Acc: 69.15 %\n",
      "69 epoch end, loss: 0.162304, Test Acc: 69.21 %\n",
      "70 epoch end, loss: 0.151090, Test Acc: 69.12 %\n",
      "71 epoch end, loss: 0.150178, Test Acc: 69.33 %\n",
      "72 epoch end, loss: 0.137951, Test Acc: 68.99 %\n",
      "73 epoch end, loss: 0.129481, Test Acc: 69.76 %\n",
      "74 epoch end, loss: 0.123646, Test Acc: 68.94 %\n",
      "75 epoch end, loss: 0.123284, Test Acc: 68.81 %\n",
      "76 epoch end, loss: 0.116878, Test Acc: 69.07 %\n",
      "77 epoch end, loss: 0.115235, Test Acc: 69.36 %\n",
      "78 epoch end, loss: 0.112964, Test Acc: 68.79 %\n",
      "79 epoch end, loss: 0.109262, Test Acc: 69.25 %\n",
      "80 epoch end, loss: 0.107980, Test Acc: 68.59 %\n",
      "81 epoch end, loss: 0.101922, Test Acc: 69.22 %\n",
      "82 epoch end, loss: 0.112849, Test Acc: 68.84 %\n",
      "83 epoch end, loss: 0.106491, Test Acc: 68.87 %\n",
      "84 epoch end, loss: 0.104281, Test Acc: 68.61 %\n",
      "85 epoch end, loss: 0.104114, Test Acc: 69.01 %\n",
      "86 epoch end, loss: 0.100650, Test Acc: 68.59 %\n",
      "87 epoch end, loss: 0.105663, Test Acc: 68.54 %\n",
      "88 epoch end, loss: 0.101762, Test Acc: 68.49 %\n",
      "89 epoch end, loss: 0.103816, Test Acc: 68.91 %\n",
      "90 epoch end, loss: 0.104518, Test Acc: 67.91 %\n",
      "91 epoch end, loss: 0.103047, Test Acc: 68.64 %\n",
      "92 epoch end, loss: 0.096682, Test Acc: 68.45 %\n",
      "93 epoch end, loss: 0.097547, Test Acc: 68.73 %\n",
      "94 epoch end, loss: 0.102736, Test Acc: 68.31 %\n",
      "95 epoch end, loss: 0.098096, Test Acc: 68.63 %\n",
      "96 epoch end, loss: 0.101360, Test Acc: 68.43 %\n",
      "97 epoch end, loss: 0.096419, Test Acc: 68.79 %\n",
      "98 epoch end, loss: 0.097878, Test Acc: 68.59 %\n",
      "99 epoch end, loss: 0.105578, Test Acc: 68.56 %\n",
      "100 epoch end, loss: 0.106055, Test Acc: 68.43 %\n",
      "101 epoch end, loss: 0.100929, Test Acc: 68.70 %\n",
      "102 epoch end, loss: 0.102565, Test Acc: 68.45 %\n",
      "103 epoch end, loss: 0.101384, Test Acc: 68.83 %\n",
      "104 epoch end, loss: 0.112580, Test Acc: 68.17 %\n",
      "105 epoch end, loss: 0.111226, Test Acc: 68.23 %\n",
      "106 epoch end, loss: 0.114056, Test Acc: 68.35 %\n",
      "107 epoch end, loss: 0.104426, Test Acc: 68.14 %\n",
      "108 epoch end, loss: 0.106448, Test Acc: 67.46 %\n",
      "109 epoch end, loss: 0.105966, Test Acc: 68.11 %\n",
      "110 epoch end, loss: 0.106328, Test Acc: 68.22 %\n",
      "111 epoch end, loss: 0.111121, Test Acc: 67.83 %\n",
      "112 epoch end, loss: 0.107587, Test Acc: 68.35 %\n",
      "113 epoch end, loss: 0.111497, Test Acc: 68.20 %\n",
      "114 epoch end, loss: 0.111662, Test Acc: 68.09 %\n",
      "115 epoch end, loss: 0.114031, Test Acc: 67.92 %\n",
      "116 epoch end, loss: 0.118516, Test Acc: 68.18 %\n",
      "117 epoch end, loss: 0.105878, Test Acc: 68.01 %\n",
      "118 epoch end, loss: 0.109845, Test Acc: 68.64 %\n",
      "119 epoch end, loss: 0.112511, Test Acc: 66.63 %\n",
      "120 epoch end, loss: 0.106099, Test Acc: 68.06 %\n",
      "121 epoch end, loss: 0.053489, Test Acc: 70.39 %\n",
      "122 epoch end, loss: 0.035687, Test Acc: 70.77 %\n",
      "123 epoch end, loss: 0.027993, Test Acc: 70.57 %\n",
      "124 epoch end, loss: 0.024896, Test Acc: 71.02 %\n",
      "125 epoch end, loss: 0.022488, Test Acc: 71.04 %\n",
      "126 epoch end, loss: 0.021718, Test Acc: 71.06 %\n",
      "127 epoch end, loss: 0.019845, Test Acc: 71.19 %\n",
      "128 epoch end, loss: 0.017805, Test Acc: 71.23 %\n",
      "129 epoch end, loss: 0.017083, Test Acc: 71.43 %\n",
      "130 epoch end, loss: 0.016278, Test Acc: 71.09 %\n",
      "131 epoch end, loss: 0.014407, Test Acc: 71.19 %\n",
      "132 epoch end, loss: 0.014714, Test Acc: 71.38 %\n",
      "133 epoch end, loss: 0.014544, Test Acc: 71.42 %\n",
      "134 epoch end, loss: 0.014012, Test Acc: 71.29 %\n",
      "135 epoch end, loss: 0.012772, Test Acc: 71.13 %\n",
      "136 epoch end, loss: 0.013389, Test Acc: 71.43 %\n",
      "137 epoch end, loss: 0.012562, Test Acc: 71.27 %\n",
      "138 epoch end, loss: 0.012104, Test Acc: 71.03 %\n",
      "139 epoch end, loss: 0.011830, Test Acc: 71.55 %\n",
      "140 epoch end, loss: 0.010756, Test Acc: 71.56 %\n",
      "141 epoch end, loss: 0.009716, Test Acc: 71.41 %\n",
      "142 epoch end, loss: 0.011055, Test Acc: 71.47 %\n",
      "143 epoch end, loss: 0.010697, Test Acc: 71.53 %\n",
      "144 epoch end, loss: 0.009422, Test Acc: 71.35 %\n",
      "145 epoch end, loss: 0.009719, Test Acc: 71.33 %\n",
      "146 epoch end, loss: 0.010116, Test Acc: 71.20 %\n",
      "147 epoch end, loss: 0.008629, Test Acc: 71.31 %\n",
      "148 epoch end, loss: 0.009161, Test Acc: 71.12 %\n",
      "149 epoch end, loss: 0.009385, Test Acc: 71.46 %\n",
      "150 epoch end, loss: 0.008937, Test Acc: 71.37 %\n",
      "151 epoch end, loss: 0.008333, Test Acc: 71.51 %\n",
      "152 epoch end, loss: 0.008213, Test Acc: 71.46 %\n",
      "153 epoch end, loss: 0.007376, Test Acc: 71.55 %\n",
      "154 epoch end, loss: 0.007812, Test Acc: 71.59 %\n",
      "155 epoch end, loss: 0.007469, Test Acc: 71.59 %\n",
      "156 epoch end, loss: 0.007257, Test Acc: 71.39 %\n",
      "157 epoch end, loss: 0.007075, Test Acc: 71.49 %\n",
      "158 epoch end, loss: 0.006483, Test Acc: 71.50 %\n",
      "159 epoch end, loss: 0.006921, Test Acc: 71.62 %\n",
      "160 epoch end, loss: 0.006458, Test Acc: 71.56 %\n",
      "161 epoch end, loss: 0.006762, Test Acc: 71.58 %\n",
      "162 epoch end, loss: 0.006664, Test Acc: 71.52 %\n",
      "163 epoch end, loss: 0.007069, Test Acc: 71.65 %\n",
      "164 epoch end, loss: 0.006871, Test Acc: 71.60 %\n",
      "165 epoch end, loss: 0.006929, Test Acc: 71.62 %\n",
      "166 epoch end, loss: 0.006654, Test Acc: 71.73 %\n",
      "167 epoch end, loss: 0.006868, Test Acc: 71.67 %\n",
      "168 epoch end, loss: 0.006648, Test Acc: 71.62 %\n",
      "169 epoch end, loss: 0.006574, Test Acc: 71.74 %\n",
      "170 epoch end, loss: 0.006994, Test Acc: 71.60 %\n"
     ]
    },
    {
     "name": "stdout",
     "output_type": "stream",
     "text": [
      "171 epoch end, loss: 0.006993, Test Acc: 71.73 %\n",
      "172 epoch end, loss: 0.006671, Test Acc: 71.52 %\n",
      "173 epoch end, loss: 0.007108, Test Acc: 71.62 %\n",
      "174 epoch end, loss: 0.006216, Test Acc: 71.67 %\n",
      "175 epoch end, loss: 0.006383, Test Acc: 71.61 %\n",
      "176 epoch end, loss: 0.006236, Test Acc: 71.82 %\n",
      "177 epoch end, loss: 0.005974, Test Acc: 71.76 %\n",
      "178 epoch end, loss: 0.006133, Test Acc: 71.78 %\n",
      "179 epoch end, loss: 0.005700, Test Acc: 71.67 %\n",
      "180 epoch end, loss: 0.006415, Test Acc: 71.63 %\n",
      "\n",
      "Training is finished!\n"
     ]
    }
   ],
   "source": [
    "for epoch in range(num_epoch):  # loop over the dataset multiple times\n",
    "\n",
    "    running_loss = 0.0\n",
    "    scheduler.step()\n",
    "    net.TrainMode()\n",
    "    for i, data in enumerate(trainloader, 0):\n",
    "        # get the inputs\n",
    "        inputs, labels = data\n",
    "\n",
    "        # wrap them in Variable\n",
    "        inputs = Variable(inputs.cuda())\n",
    "        labels = Variable(labels.cuda())\n",
    "\n",
    "        # zero the parameter gradients\n",
    "        optimizer.zero_grad()\n",
    "\n",
    "        # forward + backward + optimize\n",
    "        #scheduler.step()\n",
    "\n",
    "        outputs = net(inputs)\n",
    "        loss = criterion(outputs, labels)\n",
    "        loss.backward()\n",
    "        optimizer.step()\n",
    "\n",
    "        running_loss = (running_loss * i + loss.cpu().data.numpy()) / (i+1)\n",
    "\n",
    "    correct = 0\n",
    "    total = 0\n",
    "    net.TestMode()\n",
    "    for data in testloader:\n",
    "        images, labels = data\n",
    "        outputs = net(Variable(images.cuda()))\n",
    "        _, predicted = torch.max(outputs.data, 1)\n",
    "        total += labels.size(0)\n",
    "        correct += (predicted == labels.cuda()).sum()\n",
    "        \n",
    "    print('%d epoch end, loss: %3.6f, Test Acc: %4.2f %%' %(epoch + 1, running_loss, 100 * correct / total))\n",
    "    \n",
    "print('\\nTraining is finished!')"
   ]
  },
  {
   "cell_type": "code",
   "execution_count": 9,
   "metadata": {},
   "outputs": [
    {
     "name": "stdout",
     "output_type": "stream",
     "text": [
      "Accuracy of the network on the 10000 test images: 71.63 %\n"
     ]
    }
   ],
   "source": [
    "correct = 0\n",
    "total = 0\n",
    "net.TestMode()\n",
    "for data in testloader:\n",
    "    images, labels = data\n",
    "    outputs = net(Variable(images.cuda()))\n",
    "    _, predicted = torch.max(outputs.data, 1)\n",
    "    total += labels.size(0)\n",
    "    correct += (predicted == labels.cuda()).sum()\n",
    "\n",
    "print('Accuracy of the network on the 10000 test images: %4.2f %%' % (100 * correct / total))"
   ]
  },
  {
   "cell_type": "code",
   "execution_count": 10,
   "metadata": {
    "scrolled": true
   },
   "outputs": [],
   "source": [
    "torch.save(net.GetStateDict(), pretrained_model)"
   ]
  }
 ],
 "metadata": {
  "kernelspec": {
   "display_name": "Python 3",
   "language": "python",
   "name": "python3"
  },
  "language_info": {
   "codemirror_mode": {
    "name": "ipython",
    "version": 3
   },
   "file_extension": ".py",
   "mimetype": "text/x-python",
   "name": "python",
   "nbconvert_exporter": "python",
   "pygments_lexer": "ipython3",
   "version": "3.5.2"
  }
 },
 "nbformat": 4,
 "nbformat_minor": 2
}
