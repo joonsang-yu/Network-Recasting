{
 "cells": [
  {
   "cell_type": "markdown",
   "metadata": {},
   "source": [
    "## Import torch and model"
   ]
  },
  {
   "cell_type": "code",
   "execution_count": 1,
   "metadata": {},
   "outputs": [],
   "source": [
    "import os\n",
    "os.environ[\"CUDA_VISIBLE_DEVICES\"] = '1'"
   ]
  },
  {
   "cell_type": "code",
   "execution_count": 2,
   "metadata": {},
   "outputs": [],
   "source": [
    "import torch\n",
    "import torchvision\n",
    "import torchvision.transforms as transforms\n",
    "import torch.optim as optim\n",
    "import torch.optim.lr_scheduler as lr_scheduler\n",
    "from torch.autograd import Variable\n",
    "import torch.nn as nn\n",
    "import torch.nn.functional as F\n",
    "\n",
    "import numpy as np"
   ]
  },
  {
   "cell_type": "code",
   "execution_count": 3,
   "metadata": {},
   "outputs": [],
   "source": [
    "import sys\n",
    "sys.path.append(\"../common\")\n",
    "\n",
    "from model_generator import ModelGenerator\n",
    "from net import Net"
   ]
  },
  {
   "cell_type": "markdown",
   "metadata": {},
   "source": [
    "## Set hyper params"
   ]
  },
  {
   "cell_type": "code",
   "execution_count": 4,
   "metadata": {},
   "outputs": [],
   "source": [
    "batch_size = 128\n",
    "num_epoch  = 180\n",
    "\n",
    "lr = 0.1\n",
    "gamma = 0.2             # learning rate decay\n",
    "weight_decay = 0.0001\n",
    "\n",
    "## for SGD\n",
    "opt_momentum = 0.9\n",
    "opt_nesterov = True\n",
    "\n",
    "dropout_on = False\n",
    "batchnorm_on = True \n",
    "\n",
    "scheduler_step_size = [60, 120, 150]\n",
    "\n",
    "pretrained_model       = './cifar100_resnet83_pretrained.pth'"
   ]
  },
  {
   "cell_type": "markdown",
   "metadata": {},
   "source": [
    "## Load dataset"
   ]
  },
  {
   "cell_type": "code",
   "execution_count": 5,
   "metadata": {},
   "outputs": [
    {
     "name": "stdout",
     "output_type": "stream",
     "text": [
      "Files already downloaded and verified\n",
      "Files already downloaded and verified\n"
     ]
    }
   ],
   "source": [
    "transform = transforms.Compose(\n",
    "    [transforms.ToTensor(),\n",
    "     transforms.Normalize(mean=(0.4914, 0.4822, 0.4465), std=(0.2023, 0.1994, 0.2010))])\n",
    "\n",
    "transform_train = transforms.Compose(\n",
    "    [transforms.RandomHorizontalFlip(),\n",
    "     transforms.RandomCrop(32, 4),\n",
    "     transforms.ToTensor(),\n",
    "     transforms.Normalize(mean=(0.4914, 0.4822, 0.4465), std=(0.2023, 0.1994, 0.2010))])\n",
    "\n",
    "trainset = torchvision.datasets.CIFAR100(root='./data', train=True,\n",
    "                                        download=True, transform=transform_train)\n",
    "trainloader = torch.utils.data.DataLoader(trainset, batch_size=batch_size,\n",
    "                                          shuffle=True, num_workers=2)\n",
    "\n",
    "testset = torchvision.datasets.CIFAR100(root='./data', train=False,\n",
    "                                       download=True, transform=transform)\n",
    "testloader = torch.utils.data.DataLoader(testset, batch_size=batch_size,\n",
    "                                         shuffle=False, num_workers=2)\n",
    "\n",
    "classes = ('plane', 'car', 'bird', 'cat',\n",
    "           'deer', 'dog', 'frog', 'horse', 'ship', 'truck')"
   ]
  },
  {
   "cell_type": "markdown",
   "metadata": {},
   "source": [
    "## Resnet83 model"
   ]
  },
  {
   "cell_type": "code",
   "execution_count": 6,
   "metadata": {},
   "outputs": [],
   "source": [
    "model_gen = ModelGenerator(dropout = dropout_on, batchnorm = batchnorm_on)\n",
    "\n",
    "model_gen.CifarResnetConfig(num_layers = 83, cifar = 100, block_type = 'Bottleneck')\n",
    "model = model_gen.GetCifarResnet()\n",
    "\n",
    "net = Net(model)\n",
    "\n",
    "net.Gpu()"
   ]
  },
  {
   "cell_type": "code",
   "execution_count": 7,
   "metadata": {},
   "outputs": [],
   "source": [
    "criterion = nn.CrossEntropyLoss()\n",
    "\n",
    "optimizer = optim.SGD(net.GetTotalParams(), lr=lr, weight_decay=weight_decay, momentum=opt_momentum, nesterov=opt_nesterov )\n",
    "\n",
    "scheduler = lr_scheduler.MultiStepLR(optimizer, milestones = scheduler_step_size, gamma = gamma)"
   ]
  },
  {
   "cell_type": "code",
   "execution_count": 8,
   "metadata": {
    "scrolled": true
   },
   "outputs": [
    {
     "name": "stdout",
     "output_type": "stream",
     "text": [
      "1 epoch end, loss: 4.293037, Test Acc: 6.59 %\n",
      "2 epoch end, loss: 3.682521, Test Acc: 16.86 %\n",
      "3 epoch end, loss: 3.166202, Test Acc: 25.57 %\n",
      "4 epoch end, loss: 2.736031, Test Acc: 27.10 %\n",
      "5 epoch end, loss: 2.458947, Test Acc: 31.71 %\n",
      "6 epoch end, loss: 2.253214, Test Acc: 37.72 %\n",
      "7 epoch end, loss: 2.094925, Test Acc: 42.81 %\n",
      "8 epoch end, loss: 1.959650, Test Acc: 43.64 %\n",
      "9 epoch end, loss: 1.834413, Test Acc: 43.82 %\n",
      "10 epoch end, loss: 1.728676, Test Acc: 48.84 %\n",
      "11 epoch end, loss: 1.637841, Test Acc: 50.28 %\n",
      "12 epoch end, loss: 1.542297, Test Acc: 51.52 %\n",
      "13 epoch end, loss: 1.477364, Test Acc: 51.81 %\n",
      "14 epoch end, loss: 1.410416, Test Acc: 54.16 %\n",
      "15 epoch end, loss: 1.351602, Test Acc: 55.66 %\n",
      "16 epoch end, loss: 1.301559, Test Acc: 54.37 %\n",
      "17 epoch end, loss: 1.256773, Test Acc: 55.25 %\n",
      "18 epoch end, loss: 1.213158, Test Acc: 56.79 %\n",
      "19 epoch end, loss: 1.175079, Test Acc: 57.26 %\n",
      "20 epoch end, loss: 1.139463, Test Acc: 55.88 %\n",
      "21 epoch end, loss: 1.112977, Test Acc: 57.08 %\n",
      "22 epoch end, loss: 1.076557, Test Acc: 58.01 %\n",
      "23 epoch end, loss: 1.055616, Test Acc: 58.49 %\n",
      "24 epoch end, loss: 1.033855, Test Acc: 60.05 %\n",
      "25 epoch end, loss: 1.007071, Test Acc: 57.07 %\n",
      "26 epoch end, loss: 0.980130, Test Acc: 59.96 %\n",
      "27 epoch end, loss: 0.959529, Test Acc: 59.94 %\n",
      "28 epoch end, loss: 0.935566, Test Acc: 59.76 %\n",
      "29 epoch end, loss: 0.929126, Test Acc: 60.60 %\n",
      "30 epoch end, loss: 0.901222, Test Acc: 62.96 %\n",
      "31 epoch end, loss: 0.893309, Test Acc: 60.07 %\n",
      "32 epoch end, loss: 0.868400, Test Acc: 60.25 %\n",
      "33 epoch end, loss: 0.858573, Test Acc: 59.51 %\n",
      "34 epoch end, loss: 0.846131, Test Acc: 63.03 %\n",
      "35 epoch end, loss: 0.829610, Test Acc: 62.88 %\n",
      "36 epoch end, loss: 0.823223, Test Acc: 62.58 %\n",
      "37 epoch end, loss: 0.798571, Test Acc: 63.06 %\n",
      "38 epoch end, loss: 0.785885, Test Acc: 62.86 %\n",
      "39 epoch end, loss: 0.782974, Test Acc: 62.97 %\n",
      "40 epoch end, loss: 0.771300, Test Acc: 59.70 %\n",
      "41 epoch end, loss: 0.761622, Test Acc: 61.41 %\n",
      "42 epoch end, loss: 0.749496, Test Acc: 61.70 %\n",
      "43 epoch end, loss: 0.746425, Test Acc: 59.23 %\n",
      "44 epoch end, loss: 0.727347, Test Acc: 62.32 %\n",
      "45 epoch end, loss: 0.724856, Test Acc: 62.00 %\n",
      "46 epoch end, loss: 0.717436, Test Acc: 63.55 %\n",
      "47 epoch end, loss: 0.712942, Test Acc: 62.81 %\n",
      "48 epoch end, loss: 0.698664, Test Acc: 63.91 %\n",
      "49 epoch end, loss: 0.692363, Test Acc: 61.76 %\n",
      "50 epoch end, loss: 0.685826, Test Acc: 63.48 %\n",
      "51 epoch end, loss: 0.677545, Test Acc: 59.25 %\n",
      "52 epoch end, loss: 0.672871, Test Acc: 64.88 %\n",
      "53 epoch end, loss: 0.664631, Test Acc: 62.50 %\n",
      "54 epoch end, loss: 0.660837, Test Acc: 63.02 %\n",
      "55 epoch end, loss: 0.652444, Test Acc: 62.51 %\n",
      "56 epoch end, loss: 0.643545, Test Acc: 64.22 %\n",
      "57 epoch end, loss: 0.647274, Test Acc: 63.75 %\n",
      "58 epoch end, loss: 0.637301, Test Acc: 64.67 %\n",
      "59 epoch end, loss: 0.635151, Test Acc: 63.14 %\n",
      "60 epoch end, loss: 0.624132, Test Acc: 62.68 %\n",
      "61 epoch end, loss: 0.361001, Test Acc: 71.73 %\n",
      "62 epoch end, loss: 0.276180, Test Acc: 72.24 %\n",
      "63 epoch end, loss: 0.245215, Test Acc: 72.22 %\n",
      "64 epoch end, loss: 0.222531, Test Acc: 71.69 %\n",
      "65 epoch end, loss: 0.206088, Test Acc: 71.69 %\n",
      "66 epoch end, loss: 0.194622, Test Acc: 71.40 %\n",
      "67 epoch end, loss: 0.182025, Test Acc: 71.44 %\n",
      "68 epoch end, loss: 0.175351, Test Acc: 72.10 %\n",
      "69 epoch end, loss: 0.164111, Test Acc: 71.50 %\n",
      "70 epoch end, loss: 0.161845, Test Acc: 71.73 %\n",
      "71 epoch end, loss: 0.150413, Test Acc: 71.78 %\n",
      "72 epoch end, loss: 0.143184, Test Acc: 71.87 %\n",
      "73 epoch end, loss: 0.141649, Test Acc: 71.47 %\n",
      "74 epoch end, loss: 0.138143, Test Acc: 71.45 %\n",
      "75 epoch end, loss: 0.134284, Test Acc: 71.41 %\n",
      "76 epoch end, loss: 0.128883, Test Acc: 71.59 %\n",
      "77 epoch end, loss: 0.128460, Test Acc: 71.10 %\n",
      "78 epoch end, loss: 0.127609, Test Acc: 71.31 %\n",
      "79 epoch end, loss: 0.123698, Test Acc: 71.63 %\n",
      "80 epoch end, loss: 0.126221, Test Acc: 71.37 %\n",
      "81 epoch end, loss: 0.122763, Test Acc: 70.45 %\n",
      "82 epoch end, loss: 0.118977, Test Acc: 71.43 %\n",
      "83 epoch end, loss: 0.118531, Test Acc: 70.85 %\n",
      "84 epoch end, loss: 0.117430, Test Acc: 71.17 %\n",
      "85 epoch end, loss: 0.116815, Test Acc: 71.09 %\n",
      "86 epoch end, loss: 0.119002, Test Acc: 70.87 %\n",
      "87 epoch end, loss: 0.115984, Test Acc: 71.03 %\n",
      "88 epoch end, loss: 0.117291, Test Acc: 70.84 %\n",
      "89 epoch end, loss: 0.119622, Test Acc: 70.96 %\n",
      "90 epoch end, loss: 0.116615, Test Acc: 70.86 %\n",
      "91 epoch end, loss: 0.119166, Test Acc: 70.15 %\n",
      "92 epoch end, loss: 0.119614, Test Acc: 70.42 %\n",
      "93 epoch end, loss: 0.116588, Test Acc: 69.82 %\n",
      "94 epoch end, loss: 0.117560, Test Acc: 70.71 %\n",
      "95 epoch end, loss: 0.117863, Test Acc: 69.96 %\n",
      "96 epoch end, loss: 0.114531, Test Acc: 70.36 %\n",
      "97 epoch end, loss: 0.118745, Test Acc: 70.41 %\n",
      "98 epoch end, loss: 0.111041, Test Acc: 70.08 %\n",
      "99 epoch end, loss: 0.117835, Test Acc: 69.77 %\n",
      "100 epoch end, loss: 0.115377, Test Acc: 70.43 %\n",
      "101 epoch end, loss: 0.122899, Test Acc: 69.75 %\n",
      "102 epoch end, loss: 0.115249, Test Acc: 69.67 %\n",
      "103 epoch end, loss: 0.118409, Test Acc: 69.53 %\n",
      "104 epoch end, loss: 0.128380, Test Acc: 69.71 %\n",
      "105 epoch end, loss: 0.127716, Test Acc: 69.84 %\n",
      "106 epoch end, loss: 0.121461, Test Acc: 69.77 %\n",
      "107 epoch end, loss: 0.122836, Test Acc: 69.61 %\n",
      "108 epoch end, loss: 0.129559, Test Acc: 69.73 %\n",
      "109 epoch end, loss: 0.126789, Test Acc: 69.05 %\n",
      "110 epoch end, loss: 0.130596, Test Acc: 68.84 %\n",
      "111 epoch end, loss: 0.137385, Test Acc: 68.83 %\n",
      "112 epoch end, loss: 0.135772, Test Acc: 69.01 %\n",
      "113 epoch end, loss: 0.133632, Test Acc: 69.13 %\n",
      "114 epoch end, loss: 0.130312, Test Acc: 69.56 %\n",
      "115 epoch end, loss: 0.125011, Test Acc: 68.50 %\n",
      "116 epoch end, loss: 0.128955, Test Acc: 69.17 %\n",
      "117 epoch end, loss: 0.137336, Test Acc: 68.18 %\n",
      "118 epoch end, loss: 0.131277, Test Acc: 69.16 %\n",
      "119 epoch end, loss: 0.132407, Test Acc: 68.53 %\n",
      "120 epoch end, loss: 0.138292, Test Acc: 68.24 %\n",
      "121 epoch end, loss: 0.073519, Test Acc: 72.35 %\n",
      "122 epoch end, loss: 0.049034, Test Acc: 72.11 %\n",
      "123 epoch end, loss: 0.044078, Test Acc: 72.18 %\n",
      "124 epoch end, loss: 0.039521, Test Acc: 71.99 %\n",
      "125 epoch end, loss: 0.035926, Test Acc: 72.47 %\n",
      "126 epoch end, loss: 0.036467, Test Acc: 72.25 %\n",
      "127 epoch end, loss: 0.033293, Test Acc: 72.57 %\n",
      "128 epoch end, loss: 0.032630, Test Acc: 72.48 %\n",
      "129 epoch end, loss: 0.031587, Test Acc: 72.65 %\n",
      "130 epoch end, loss: 0.030226, Test Acc: 72.38 %\n",
      "131 epoch end, loss: 0.028431, Test Acc: 72.54 %\n",
      "132 epoch end, loss: 0.028472, Test Acc: 72.22 %\n",
      "133 epoch end, loss: 0.027936, Test Acc: 72.28 %\n",
      "134 epoch end, loss: 0.026861, Test Acc: 72.37 %\n",
      "135 epoch end, loss: 0.026329, Test Acc: 72.56 %\n",
      "136 epoch end, loss: 0.025534, Test Acc: 72.31 %\n",
      "137 epoch end, loss: 0.024324, Test Acc: 72.51 %\n",
      "138 epoch end, loss: 0.024682, Test Acc: 72.46 %\n",
      "139 epoch end, loss: 0.023957, Test Acc: 72.38 %\n",
      "140 epoch end, loss: 0.023380, Test Acc: 72.22 %\n",
      "141 epoch end, loss: 0.023495, Test Acc: 72.45 %\n",
      "142 epoch end, loss: 0.022881, Test Acc: 72.38 %\n",
      "143 epoch end, loss: 0.022590, Test Acc: 72.56 %\n",
      "144 epoch end, loss: 0.022459, Test Acc: 72.57 %\n",
      "145 epoch end, loss: 0.022370, Test Acc: 72.40 %\n",
      "146 epoch end, loss: 0.022855, Test Acc: 72.62 %\n",
      "147 epoch end, loss: 0.021707, Test Acc: 72.25 %\n",
      "148 epoch end, loss: 0.021284, Test Acc: 72.35 %\n",
      "149 epoch end, loss: 0.022445, Test Acc: 72.44 %\n",
      "150 epoch end, loss: 0.020754, Test Acc: 72.48 %\n",
      "151 epoch end, loss: 0.019838, Test Acc: 72.49 %\n",
      "152 epoch end, loss: 0.018713, Test Acc: 72.70 %\n",
      "153 epoch end, loss: 0.018903, Test Acc: 72.59 %\n",
      "154 epoch end, loss: 0.018693, Test Acc: 72.72 %\n",
      "155 epoch end, loss: 0.018218, Test Acc: 72.57 %\n",
      "156 epoch end, loss: 0.018490, Test Acc: 72.35 %\n",
      "157 epoch end, loss: 0.018343, Test Acc: 72.62 %\n",
      "158 epoch end, loss: 0.018173, Test Acc: 72.54 %\n",
      "159 epoch end, loss: 0.018870, Test Acc: 72.56 %\n",
      "160 epoch end, loss: 0.017743, Test Acc: 72.48 %\n",
      "161 epoch end, loss: 0.017948, Test Acc: 72.36 %\n",
      "162 epoch end, loss: 0.017927, Test Acc: 72.56 %\n",
      "163 epoch end, loss: 0.017942, Test Acc: 72.51 %\n",
      "164 epoch end, loss: 0.017989, Test Acc: 72.44 %\n",
      "165 epoch end, loss: 0.017705, Test Acc: 72.62 %\n",
      "166 epoch end, loss: 0.017644, Test Acc: 72.69 %\n",
      "167 epoch end, loss: 0.017423, Test Acc: 72.47 %\n",
      "168 epoch end, loss: 0.016979, Test Acc: 72.45 %\n",
      "169 epoch end, loss: 0.017849, Test Acc: 72.53 %\n",
      "170 epoch end, loss: 0.017822, Test Acc: 72.63 %\n"
     ]
    },
    {
     "name": "stdout",
     "output_type": "stream",
     "text": [
      "171 epoch end, loss: 0.017346, Test Acc: 72.83 %\n",
      "172 epoch end, loss: 0.017488, Test Acc: 72.50 %\n",
      "173 epoch end, loss: 0.017793, Test Acc: 72.77 %\n",
      "174 epoch end, loss: 0.017714, Test Acc: 72.57 %\n",
      "175 epoch end, loss: 0.016943, Test Acc: 72.58 %\n",
      "176 epoch end, loss: 0.017891, Test Acc: 72.49 %\n",
      "177 epoch end, loss: 0.017586, Test Acc: 72.58 %\n",
      "178 epoch end, loss: 0.017030, Test Acc: 72.41 %\n",
      "179 epoch end, loss: 0.017364, Test Acc: 72.69 %\n",
      "180 epoch end, loss: 0.017226, Test Acc: 72.80 %\n",
      "\n",
      "Training is finished!\n"
     ]
    }
   ],
   "source": [
    "for epoch in range(num_epoch):  # loop over the dataset multiple times\n",
    "\n",
    "    running_loss = 0.0\n",
    "    scheduler.step()\n",
    "    net.TrainMode()\n",
    "    for i, data in enumerate(trainloader, 0):\n",
    "        # get the inputs\n",
    "        inputs, labels = data\n",
    "\n",
    "        # wrap them in Variable\n",
    "        inputs = Variable(inputs.cuda())\n",
    "        labels = Variable(labels.cuda())\n",
    "\n",
    "        # zero the parameter gradients\n",
    "        optimizer.zero_grad()\n",
    "\n",
    "        # forward + backward + optimize\n",
    "        #scheduler.step()\n",
    "\n",
    "        outputs = net(inputs)\n",
    "        loss = criterion(outputs, labels)\n",
    "        loss.backward()\n",
    "        optimizer.step()\n",
    "\n",
    "        running_loss = (running_loss * i + loss.cpu().data.numpy()) / (i+1)\n",
    "\n",
    "    correct = 0\n",
    "    total = 0\n",
    "    net.TestMode()\n",
    "    for data in testloader:\n",
    "        images, labels = data\n",
    "        outputs = net(Variable(images.cuda()))\n",
    "        _, predicted = torch.max(outputs.data, 1)\n",
    "        total += labels.size(0)\n",
    "        correct += (predicted == labels.cuda()).sum()\n",
    "        \n",
    "    print('%d epoch end, loss: %3.6f, Test Acc: %4.2f %%' %(epoch + 1, running_loss, 100 * correct / total))\n",
    "    \n",
    "print('\\nTraining is finished!')"
   ]
  },
  {
   "cell_type": "code",
   "execution_count": 9,
   "metadata": {},
   "outputs": [
    {
     "name": "stdout",
     "output_type": "stream",
     "text": [
      "Accuracy of the network on the 10000 test images: 72.80 %\n"
     ]
    }
   ],
   "source": [
    "correct = 0\n",
    "total = 0\n",
    "net.TestMode()\n",
    "for data in testloader:\n",
    "    images, labels = data\n",
    "    outputs = net(Variable(images.cuda()))\n",
    "    _, predicted = torch.max(outputs.data, 1)\n",
    "    total += labels.size(0)\n",
    "    correct += (predicted == labels.cuda()).sum()\n",
    "\n",
    "print('Accuracy of the network on the 10000 test images: %4.2f %%' % (100 * correct / total))"
   ]
  },
  {
   "cell_type": "code",
   "execution_count": 10,
   "metadata": {
    "scrolled": true
   },
   "outputs": [],
   "source": [
    "torch.save(net.GetStateDict(), pretrained_model)"
   ]
  }
 ],
 "metadata": {
  "kernelspec": {
   "display_name": "Python 3",
   "language": "python",
   "name": "python3"
  },
  "language_info": {
   "codemirror_mode": {
    "name": "ipython",
    "version": 3
   },
   "file_extension": ".py",
   "mimetype": "text/x-python",
   "name": "python",
   "nbconvert_exporter": "python",
   "pygments_lexer": "ipython3",
   "version": "3.5.2"
  }
 },
 "nbformat": 4,
 "nbformat_minor": 2
}
