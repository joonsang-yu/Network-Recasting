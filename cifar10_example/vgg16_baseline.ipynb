{
 "cells": [
  {
   "cell_type": "markdown",
   "metadata": {},
   "source": [
    "## Import torch and model"
   ]
  },
  {
   "cell_type": "code",
   "execution_count": 1,
   "metadata": {},
   "outputs": [],
   "source": [
    "import os\n",
    "os.environ[\"CUDA_VISIBLE_DEVICES\"] = '0'"
   ]
  },
  {
   "cell_type": "code",
   "execution_count": 2,
   "metadata": {},
   "outputs": [],
   "source": [
    "import torch\n",
    "import torchvision\n",
    "import torchvision.transforms as transforms\n",
    "import torch.optim as optim\n",
    "import torch.optim.lr_scheduler as lr_scheduler\n",
    "from torch.autograd import Variable\n",
    "import torch.nn as nn\n",
    "import torch.nn.functional as F\n",
    "\n",
    "import numpy as np"
   ]
  },
  {
   "cell_type": "code",
   "execution_count": 3,
   "metadata": {},
   "outputs": [],
   "source": [
    "import sys\n",
    "sys.path.append(\"../common\")\n",
    "\n",
    "from model_generator import ModelGenerator\n",
    "from net import Net"
   ]
  },
  {
   "cell_type": "markdown",
   "metadata": {},
   "source": [
    "## Set hyper params"
   ]
  },
  {
   "cell_type": "code",
   "execution_count": 4,
   "metadata": {},
   "outputs": [],
   "source": [
    "batch_size = 128\n",
    "num_epoch  = 180\n",
    "\n",
    "lr = 0.1\n",
    "gamma = 0.2             # learning rate decay\n",
    "weight_decay = 0.0001\n",
    "\n",
    "## for SGD\n",
    "opt_momentum = 0.9\n",
    "opt_nesterov = True\n",
    "\n",
    "dropout_on = False\n",
    "batchnorm_on = True \n",
    "\n",
    "scheduler_step_size = [60, 120, 150]\n",
    "\n",
    "pretrained_model       = './cifar10_vgg16_pretrained.pth'"
   ]
  },
  {
   "cell_type": "markdown",
   "metadata": {},
   "source": [
    "## Load dataset"
   ]
  },
  {
   "cell_type": "code",
   "execution_count": 5,
   "metadata": {},
   "outputs": [
    {
     "name": "stdout",
     "output_type": "stream",
     "text": [
      "Files already downloaded and verified\n",
      "Files already downloaded and verified\n"
     ]
    }
   ],
   "source": [
    "transform = transforms.Compose(\n",
    "    [transforms.ToTensor(),\n",
    "     transforms.Normalize(mean=(0.4914, 0.4822, 0.4465), std=(0.2023, 0.1994, 0.2010))])\n",
    "\n",
    "transform_train = transforms.Compose(\n",
    "    [transforms.RandomHorizontalFlip(),\n",
    "     transforms.RandomCrop(32, 4),\n",
    "     transforms.ToTensor(),\n",
    "     transforms.Normalize(mean=(0.4914, 0.4822, 0.4465), std=(0.2023, 0.1994, 0.2010))])\n",
    "\n",
    "trainset = torchvision.datasets.CIFAR10(root='./data', train=True,\n",
    "                                        download=True, transform=transform_train)\n",
    "trainloader = torch.utils.data.DataLoader(trainset, batch_size=batch_size,\n",
    "                                          shuffle=True, num_workers=2)\n",
    "\n",
    "testset = torchvision.datasets.CIFAR10(root='./data', train=False,\n",
    "                                       download=True, transform=transform)\n",
    "testloader = torch.utils.data.DataLoader(testset, batch_size=batch_size,\n",
    "                                         shuffle=False, num_workers=2)\n",
    "\n",
    "classes = ('plane', 'car', 'bird', 'cat',\n",
    "           'deer', 'dog', 'frog', 'horse', 'ship', 'truck')"
   ]
  },
  {
   "cell_type": "markdown",
   "metadata": {},
   "source": [
    "## VGG16 model"
   ]
  },
  {
   "cell_type": "code",
   "execution_count": 6,
   "metadata": {},
   "outputs": [],
   "source": [
    "model_gen = ModelGenerator(dropout = dropout_on, batchnorm = batchnorm_on)\n",
    "\n",
    "model_gen.CifarVgg16Config(cifar = 10)\n",
    "model = model_gen.GetCifarVgg16()\n",
    "\n",
    "net = Net(model)\n",
    "\n",
    "net.Gpu()"
   ]
  },
  {
   "cell_type": "code",
   "execution_count": 7,
   "metadata": {},
   "outputs": [],
   "source": [
    "criterion = nn.CrossEntropyLoss()\n",
    "\n",
    "optimizer = optim.SGD(net.GetTotalParams(), lr=lr, weight_decay=weight_decay, momentum=opt_momentum, nesterov=opt_nesterov )\n",
    "\n",
    "scheduler = lr_scheduler.MultiStepLR(optimizer, milestones = scheduler_step_size, gamma = gamma)"
   ]
  },
  {
   "cell_type": "code",
   "execution_count": 8,
   "metadata": {
    "scrolled": true
   },
   "outputs": [
    {
     "name": "stdout",
     "output_type": "stream",
     "text": [
      "1 epoch end, loss: 1.727299, Test Acc: 46.96 %\n",
      "2 epoch end, loss: 1.158102, Test Acc: 60.40 %\n",
      "3 epoch end, loss: 0.919403, Test Acc: 66.91 %\n",
      "4 epoch end, loss: 0.772754, Test Acc: 70.70 %\n",
      "5 epoch end, loss: 0.677590, Test Acc: 76.58 %\n",
      "6 epoch end, loss: 0.607441, Test Acc: 78.29 %\n",
      "7 epoch end, loss: 0.553135, Test Acc: 78.86 %\n",
      "8 epoch end, loss: 0.512411, Test Acc: 77.95 %\n",
      "9 epoch end, loss: 0.474939, Test Acc: 81.29 %\n",
      "10 epoch end, loss: 0.446933, Test Acc: 81.73 %\n",
      "11 epoch end, loss: 0.419743, Test Acc: 83.83 %\n",
      "12 epoch end, loss: 0.398136, Test Acc: 81.53 %\n",
      "13 epoch end, loss: 0.382936, Test Acc: 83.49 %\n",
      "14 epoch end, loss: 0.359570, Test Acc: 83.56 %\n",
      "15 epoch end, loss: 0.348823, Test Acc: 85.44 %\n",
      "16 epoch end, loss: 0.331388, Test Acc: 84.60 %\n",
      "17 epoch end, loss: 0.317979, Test Acc: 83.72 %\n",
      "18 epoch end, loss: 0.313046, Test Acc: 84.49 %\n",
      "19 epoch end, loss: 0.297948, Test Acc: 84.70 %\n",
      "20 epoch end, loss: 0.287019, Test Acc: 85.91 %\n",
      "21 epoch end, loss: 0.276721, Test Acc: 83.77 %\n",
      "22 epoch end, loss: 0.273802, Test Acc: 85.53 %\n",
      "23 epoch end, loss: 0.263279, Test Acc: 86.90 %\n",
      "24 epoch end, loss: 0.258458, Test Acc: 87.10 %\n",
      "25 epoch end, loss: 0.252893, Test Acc: 85.88 %\n",
      "26 epoch end, loss: 0.247176, Test Acc: 87.06 %\n",
      "27 epoch end, loss: 0.241042, Test Acc: 86.94 %\n",
      "28 epoch end, loss: 0.234119, Test Acc: 86.00 %\n",
      "29 epoch end, loss: 0.229494, Test Acc: 88.40 %\n",
      "30 epoch end, loss: 0.217908, Test Acc: 88.07 %\n",
      "31 epoch end, loss: 0.219568, Test Acc: 88.05 %\n",
      "32 epoch end, loss: 0.216044, Test Acc: 86.80 %\n",
      "33 epoch end, loss: 0.209691, Test Acc: 83.94 %\n",
      "34 epoch end, loss: 0.205341, Test Acc: 86.10 %\n",
      "35 epoch end, loss: 0.204620, Test Acc: 87.58 %\n",
      "36 epoch end, loss: 0.200004, Test Acc: 85.60 %\n",
      "37 epoch end, loss: 0.192093, Test Acc: 86.60 %\n",
      "38 epoch end, loss: 0.204836, Test Acc: 87.33 %\n",
      "39 epoch end, loss: 0.195526, Test Acc: 86.17 %\n",
      "40 epoch end, loss: 0.189664, Test Acc: 88.28 %\n",
      "41 epoch end, loss: 0.187544, Test Acc: 87.08 %\n",
      "42 epoch end, loss: 0.194924, Test Acc: 87.80 %\n",
      "43 epoch end, loss: 0.180514, Test Acc: 86.69 %\n",
      "44 epoch end, loss: 0.185203, Test Acc: 87.00 %\n",
      "45 epoch end, loss: 0.180344, Test Acc: 87.80 %\n",
      "46 epoch end, loss: 0.177640, Test Acc: 88.56 %\n",
      "47 epoch end, loss: 0.178978, Test Acc: 87.56 %\n",
      "48 epoch end, loss: 0.173240, Test Acc: 87.94 %\n",
      "49 epoch end, loss: 0.171757, Test Acc: 87.22 %\n",
      "50 epoch end, loss: 0.172859, Test Acc: 89.09 %\n",
      "51 epoch end, loss: 0.173911, Test Acc: 87.50 %\n",
      "52 epoch end, loss: 0.172817, Test Acc: 85.87 %\n",
      "53 epoch end, loss: 0.166056, Test Acc: 88.33 %\n",
      "54 epoch end, loss: 0.161512, Test Acc: 88.80 %\n",
      "55 epoch end, loss: 0.163418, Test Acc: 87.70 %\n",
      "56 epoch end, loss: 0.165472, Test Acc: 87.40 %\n",
      "57 epoch end, loss: 0.158643, Test Acc: 86.85 %\n",
      "58 epoch end, loss: 0.157925, Test Acc: 89.14 %\n",
      "59 epoch end, loss: 0.161399, Test Acc: 87.42 %\n",
      "60 epoch end, loss: 0.162568, Test Acc: 87.95 %\n",
      "61 epoch end, loss: 0.077343, Test Acc: 92.29 %\n",
      "62 epoch end, loss: 0.046986, Test Acc: 92.36 %\n",
      "63 epoch end, loss: 0.036764, Test Acc: 92.41 %\n",
      "64 epoch end, loss: 0.033527, Test Acc: 92.48 %\n",
      "65 epoch end, loss: 0.028697, Test Acc: 92.17 %\n",
      "66 epoch end, loss: 0.027072, Test Acc: 92.41 %\n",
      "67 epoch end, loss: 0.023960, Test Acc: 92.23 %\n",
      "68 epoch end, loss: 0.024101, Test Acc: 92.40 %\n",
      "69 epoch end, loss: 0.021871, Test Acc: 92.35 %\n",
      "70 epoch end, loss: 0.020971, Test Acc: 92.20 %\n",
      "71 epoch end, loss: 0.021594, Test Acc: 92.39 %\n",
      "72 epoch end, loss: 0.019628, Test Acc: 92.08 %\n",
      "73 epoch end, loss: 0.017289, Test Acc: 92.53 %\n",
      "74 epoch end, loss: 0.018127, Test Acc: 92.32 %\n",
      "75 epoch end, loss: 0.017549, Test Acc: 91.96 %\n",
      "76 epoch end, loss: 0.017726, Test Acc: 92.36 %\n",
      "77 epoch end, loss: 0.016057, Test Acc: 92.11 %\n",
      "78 epoch end, loss: 0.016607, Test Acc: 92.03 %\n",
      "79 epoch end, loss: 0.015686, Test Acc: 92.42 %\n",
      "80 epoch end, loss: 0.015516, Test Acc: 92.21 %\n",
      "81 epoch end, loss: 0.016131, Test Acc: 92.27 %\n",
      "82 epoch end, loss: 0.014020, Test Acc: 92.15 %\n",
      "83 epoch end, loss: 0.015722, Test Acc: 92.18 %\n",
      "84 epoch end, loss: 0.015918, Test Acc: 92.23 %\n",
      "85 epoch end, loss: 0.017811, Test Acc: 91.84 %\n",
      "86 epoch end, loss: 0.018495, Test Acc: 92.34 %\n",
      "87 epoch end, loss: 0.016380, Test Acc: 91.84 %\n",
      "88 epoch end, loss: 0.016138, Test Acc: 91.92 %\n",
      "89 epoch end, loss: 0.016959, Test Acc: 92.29 %\n",
      "90 epoch end, loss: 0.015605, Test Acc: 91.84 %\n",
      "91 epoch end, loss: 0.017804, Test Acc: 91.69 %\n",
      "92 epoch end, loss: 0.018942, Test Acc: 92.25 %\n",
      "93 epoch end, loss: 0.018566, Test Acc: 92.21 %\n",
      "94 epoch end, loss: 0.015805, Test Acc: 92.41 %\n",
      "95 epoch end, loss: 0.017423, Test Acc: 92.16 %\n",
      "96 epoch end, loss: 0.014497, Test Acc: 91.92 %\n",
      "97 epoch end, loss: 0.018184, Test Acc: 92.09 %\n",
      "98 epoch end, loss: 0.016130, Test Acc: 91.90 %\n",
      "99 epoch end, loss: 0.019995, Test Acc: 91.79 %\n",
      "100 epoch end, loss: 0.022349, Test Acc: 91.06 %\n",
      "101 epoch end, loss: 0.022070, Test Acc: 92.06 %\n",
      "102 epoch end, loss: 0.019682, Test Acc: 92.49 %\n",
      "103 epoch end, loss: 0.017848, Test Acc: 91.58 %\n",
      "104 epoch end, loss: 0.021415, Test Acc: 91.93 %\n",
      "105 epoch end, loss: 0.020825, Test Acc: 91.68 %\n",
      "106 epoch end, loss: 0.022956, Test Acc: 91.68 %\n",
      "107 epoch end, loss: 0.021597, Test Acc: 91.55 %\n",
      "108 epoch end, loss: 0.026407, Test Acc: 91.81 %\n",
      "109 epoch end, loss: 0.022011, Test Acc: 91.41 %\n",
      "110 epoch end, loss: 0.021657, Test Acc: 91.86 %\n",
      "111 epoch end, loss: 0.023174, Test Acc: 92.02 %\n",
      "112 epoch end, loss: 0.024732, Test Acc: 91.77 %\n",
      "113 epoch end, loss: 0.022252, Test Acc: 91.97 %\n",
      "114 epoch end, loss: 0.021569, Test Acc: 91.79 %\n",
      "115 epoch end, loss: 0.025149, Test Acc: 90.85 %\n",
      "116 epoch end, loss: 0.024497, Test Acc: 91.60 %\n",
      "117 epoch end, loss: 0.024449, Test Acc: 91.37 %\n",
      "118 epoch end, loss: 0.024952, Test Acc: 91.64 %\n",
      "119 epoch end, loss: 0.025636, Test Acc: 91.14 %\n",
      "120 epoch end, loss: 0.026642, Test Acc: 91.68 %\n",
      "121 epoch end, loss: 0.012404, Test Acc: 92.75 %\n",
      "122 epoch end, loss: 0.006910, Test Acc: 92.82 %\n",
      "123 epoch end, loss: 0.005403, Test Acc: 92.72 %\n",
      "124 epoch end, loss: 0.005513, Test Acc: 92.79 %\n",
      "125 epoch end, loss: 0.004589, Test Acc: 92.79 %\n",
      "126 epoch end, loss: 0.004684, Test Acc: 92.93 %\n",
      "127 epoch end, loss: 0.003885, Test Acc: 92.71 %\n",
      "128 epoch end, loss: 0.003477, Test Acc: 92.84 %\n",
      "129 epoch end, loss: 0.003585, Test Acc: 92.96 %\n",
      "130 epoch end, loss: 0.002858, Test Acc: 93.02 %\n",
      "131 epoch end, loss: 0.002268, Test Acc: 92.95 %\n",
      "132 epoch end, loss: 0.002710, Test Acc: 92.88 %\n",
      "133 epoch end, loss: 0.002135, Test Acc: 93.02 %\n",
      "134 epoch end, loss: 0.002499, Test Acc: 92.85 %\n",
      "135 epoch end, loss: 0.002387, Test Acc: 92.89 %\n",
      "136 epoch end, loss: 0.002693, Test Acc: 93.02 %\n",
      "137 epoch end, loss: 0.002690, Test Acc: 92.90 %\n",
      "138 epoch end, loss: 0.002587, Test Acc: 93.05 %\n",
      "139 epoch end, loss: 0.002284, Test Acc: 92.89 %\n",
      "140 epoch end, loss: 0.002334, Test Acc: 92.96 %\n",
      "141 epoch end, loss: 0.002215, Test Acc: 92.75 %\n",
      "142 epoch end, loss: 0.001816, Test Acc: 92.97 %\n",
      "143 epoch end, loss: 0.001762, Test Acc: 93.10 %\n",
      "144 epoch end, loss: 0.001660, Test Acc: 92.88 %\n",
      "145 epoch end, loss: 0.001627, Test Acc: 92.89 %\n",
      "146 epoch end, loss: 0.001907, Test Acc: 92.95 %\n",
      "147 epoch end, loss: 0.001545, Test Acc: 92.97 %\n",
      "148 epoch end, loss: 0.001630, Test Acc: 92.92 %\n",
      "149 epoch end, loss: 0.001379, Test Acc: 92.86 %\n",
      "150 epoch end, loss: 0.002019, Test Acc: 92.87 %\n",
      "151 epoch end, loss: 0.001941, Test Acc: 93.02 %\n",
      "152 epoch end, loss: 0.001617, Test Acc: 92.94 %\n",
      "153 epoch end, loss: 0.001346, Test Acc: 92.96 %\n",
      "154 epoch end, loss: 0.001417, Test Acc: 92.97 %\n",
      "155 epoch end, loss: 0.001249, Test Acc: 92.94 %\n",
      "156 epoch end, loss: 0.001586, Test Acc: 93.00 %\n",
      "157 epoch end, loss: 0.001485, Test Acc: 92.90 %\n",
      "158 epoch end, loss: 0.001105, Test Acc: 92.94 %\n",
      "159 epoch end, loss: 0.001299, Test Acc: 93.07 %\n",
      "160 epoch end, loss: 0.001398, Test Acc: 93.00 %\n",
      "161 epoch end, loss: 0.001428, Test Acc: 93.04 %\n",
      "162 epoch end, loss: 0.001358, Test Acc: 92.94 %\n",
      "163 epoch end, loss: 0.001415, Test Acc: 92.99 %\n",
      "164 epoch end, loss: 0.001121, Test Acc: 93.03 %\n",
      "165 epoch end, loss: 0.001401, Test Acc: 93.01 %\n",
      "166 epoch end, loss: 0.001418, Test Acc: 93.01 %\n",
      "167 epoch end, loss: 0.000957, Test Acc: 93.00 %\n",
      "168 epoch end, loss: 0.001143, Test Acc: 92.99 %\n",
      "169 epoch end, loss: 0.001489, Test Acc: 93.01 %\n",
      "170 epoch end, loss: 0.001142, Test Acc: 92.92 %\n"
     ]
    },
    {
     "name": "stdout",
     "output_type": "stream",
     "text": [
      "171 epoch end, loss: 0.001108, Test Acc: 92.98 %\n",
      "172 epoch end, loss: 0.001270, Test Acc: 92.99 %\n",
      "173 epoch end, loss: 0.001071, Test Acc: 92.89 %\n",
      "174 epoch end, loss: 0.001092, Test Acc: 92.92 %\n",
      "175 epoch end, loss: 0.001341, Test Acc: 92.96 %\n",
      "176 epoch end, loss: 0.001018, Test Acc: 92.98 %\n",
      "177 epoch end, loss: 0.001061, Test Acc: 92.98 %\n",
      "178 epoch end, loss: 0.001158, Test Acc: 93.09 %\n",
      "179 epoch end, loss: 0.000934, Test Acc: 92.97 %\n",
      "180 epoch end, loss: 0.001052, Test Acc: 93.01 %\n",
      "\n",
      "Training is finished!\n"
     ]
    }
   ],
   "source": [
    "for epoch in range(num_epoch):  # loop over the dataset multiple times\n",
    "\n",
    "    running_loss = 0.0\n",
    "    scheduler.step()\n",
    "    net.TrainMode()\n",
    "    for i, data in enumerate(trainloader, 0):\n",
    "        # get the inputs\n",
    "        inputs, labels = data\n",
    "\n",
    "        # wrap them in Variable\n",
    "        inputs = Variable(inputs.cuda())\n",
    "        labels = Variable(labels.cuda())\n",
    "\n",
    "        # zero the parameter gradients\n",
    "        optimizer.zero_grad()\n",
    "\n",
    "        # forward + backward + optimize\n",
    "        #scheduler.step()\n",
    "\n",
    "        outputs = net(inputs)\n",
    "        loss = criterion(outputs, labels)\n",
    "        loss.backward()\n",
    "        optimizer.step()\n",
    "\n",
    "        running_loss = (running_loss * i + loss.cpu().data.numpy()) / (i+1)\n",
    "\n",
    "    correct = 0\n",
    "    total = 0\n",
    "    net.TestMode()\n",
    "    for data in testloader:\n",
    "        images, labels = data\n",
    "        outputs = net(Variable(images.cuda()))\n",
    "        _, predicted = torch.max(outputs.data, 1)\n",
    "        total += labels.size(0)\n",
    "        correct += (predicted == labels.cuda()).sum()\n",
    "        \n",
    "    print('%d epoch end, loss: %3.6f, Test Acc: %4.2f %%' %(epoch + 1, running_loss, 100 * correct / total))\n",
    "    \n",
    "print('\\nTraining is finished!')"
   ]
  },
  {
   "cell_type": "code",
   "execution_count": 9,
   "metadata": {},
   "outputs": [
    {
     "name": "stdout",
     "output_type": "stream",
     "text": [
      "Accuracy of the network on the 10000 test images: 93.01 %\n"
     ]
    }
   ],
   "source": [
    "correct = 0\n",
    "total = 0\n",
    "net.TestMode()\n",
    "for data in testloader:\n",
    "    images, labels = data\n",
    "    outputs = net(Variable(images.cuda()))\n",
    "    _, predicted = torch.max(outputs.data, 1)\n",
    "    total += labels.size(0)\n",
    "    correct += (predicted == labels.cuda()).sum()\n",
    "\n",
    "print('Accuracy of the network on the 10000 test images: %4.2f %%' % (100 * correct / total))"
   ]
  },
  {
   "cell_type": "code",
   "execution_count": 10,
   "metadata": {
    "scrolled": true
   },
   "outputs": [],
   "source": [
    "torch.save(net.GetStateDict(), pretrained_model)"
   ]
  }
 ],
 "metadata": {
  "kernelspec": {
   "display_name": "Python 3",
   "language": "python",
   "name": "python3"
  },
  "language_info": {
   "codemirror_mode": {
    "name": "ipython",
    "version": 3
   },
   "file_extension": ".py",
   "mimetype": "text/x-python",
   "name": "python",
   "nbconvert_exporter": "python",
   "pygments_lexer": "ipython3",
   "version": "3.5.2"
  }
 },
 "nbformat": 4,
 "nbformat_minor": 2
}
