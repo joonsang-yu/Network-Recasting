{
 "cells": [
  {
   "cell_type": "markdown",
   "metadata": {},
   "source": [
    "## Import torch and model"
   ]
  },
  {
   "cell_type": "code",
   "execution_count": 1,
   "metadata": {},
   "outputs": [],
   "source": [
    "import os\n",
    "os.environ[\"CUDA_VISIBLE_DEVICES\"] = '0'"
   ]
  },
  {
   "cell_type": "code",
   "execution_count": 2,
   "metadata": {},
   "outputs": [],
   "source": [
    "import torch\n",
    "import torchvision\n",
    "import torchvision.transforms as transforms\n",
    "import torch.optim as optim\n",
    "import torch.optim.lr_scheduler as lr_scheduler\n",
    "from torch.autograd import Variable\n",
    "import torch.nn as nn\n",
    "import torch.nn.functional as F\n",
    "\n",
    "import numpy as np"
   ]
  },
  {
   "cell_type": "code",
   "execution_count": 3,
   "metadata": {},
   "outputs": [],
   "source": [
    "import sys\n",
    "sys.path.append(\"../common\")\n",
    "\n",
    "from model_generator import ModelGenerator\n",
    "from net import Net"
   ]
  },
  {
   "cell_type": "markdown",
   "metadata": {},
   "source": [
    "## Set hyper params"
   ]
  },
  {
   "cell_type": "code",
   "execution_count": 4,
   "metadata": {},
   "outputs": [],
   "source": [
    "batch_size = 128\n",
    "num_epoch  = 180\n",
    "\n",
    "lr = 0.1\n",
    "gamma = 0.2             # learning rate decay\n",
    "weight_decay = 0.0001\n",
    "\n",
    "## for SGD\n",
    "opt_momentum = 0.9\n",
    "opt_nesterov = True\n",
    "\n",
    "dropout_on = False\n",
    "batchnorm_on = True \n",
    "\n",
    "scheduler_step_size = [60, 120, 150]\n",
    "\n",
    "pretrained_model       = './cifar10_resnet83_pretrained.pth'"
   ]
  },
  {
   "cell_type": "markdown",
   "metadata": {},
   "source": [
    "## Load dataset"
   ]
  },
  {
   "cell_type": "code",
   "execution_count": 5,
   "metadata": {},
   "outputs": [
    {
     "name": "stdout",
     "output_type": "stream",
     "text": [
      "Files already downloaded and verified\n",
      "Files already downloaded and verified\n"
     ]
    }
   ],
   "source": [
    "transform = transforms.Compose(\n",
    "    [transforms.ToTensor(),\n",
    "     transforms.Normalize(mean=(0.4914, 0.4822, 0.4465), std=(0.2023, 0.1994, 0.2010))])\n",
    "\n",
    "transform_train = transforms.Compose(\n",
    "    [transforms.RandomHorizontalFlip(),\n",
    "     transforms.RandomCrop(32, 4),\n",
    "     transforms.ToTensor(),\n",
    "     transforms.Normalize(mean=(0.4914, 0.4822, 0.4465), std=(0.2023, 0.1994, 0.2010))])\n",
    "\n",
    "trainset = torchvision.datasets.CIFAR10(root='./data', train=True,\n",
    "                                        download=True, transform=transform_train)\n",
    "trainloader = torch.utils.data.DataLoader(trainset, batch_size=batch_size,\n",
    "                                          shuffle=True, num_workers=2)\n",
    "\n",
    "testset = torchvision.datasets.CIFAR10(root='./data', train=False,\n",
    "                                       download=True, transform=transform)\n",
    "testloader = torch.utils.data.DataLoader(testset, batch_size=batch_size,\n",
    "                                         shuffle=False, num_workers=2)\n",
    "\n",
    "classes = ('plane', 'car', 'bird', 'cat',\n",
    "           'deer', 'dog', 'frog', 'horse', 'ship', 'truck')"
   ]
  },
  {
   "cell_type": "markdown",
   "metadata": {},
   "source": [
    "## Resnet83 model"
   ]
  },
  {
   "cell_type": "code",
   "execution_count": 6,
   "metadata": {},
   "outputs": [],
   "source": [
    "model_gen = ModelGenerator(dropout = dropout_on, batchnorm = batchnorm_on)\n",
    "\n",
    "model_gen.CifarResnetConfig(num_layers = 83, cifar = 10, block_type = 'Bottleneck')\n",
    "model = model_gen.GetCifarResnet()\n",
    "\n",
    "net = Net(model)\n",
    "\n",
    "net.Gpu()"
   ]
  },
  {
   "cell_type": "code",
   "execution_count": 7,
   "metadata": {},
   "outputs": [],
   "source": [
    "criterion = nn.CrossEntropyLoss()\n",
    "\n",
    "optimizer = optim.SGD(net.GetTotalParams(), lr=lr, weight_decay=weight_decay, momentum=opt_momentum, nesterov=opt_nesterov )\n",
    "\n",
    "scheduler = lr_scheduler.MultiStepLR(optimizer, milestones = scheduler_step_size, gamma = gamma)"
   ]
  },
  {
   "cell_type": "code",
   "execution_count": 8,
   "metadata": {
    "scrolled": true
   },
   "outputs": [
    {
     "name": "stdout",
     "output_type": "stream",
     "text": [
      "1 epoch end, loss: 1.906651, Test Acc: 39.40 %\n",
      "2 epoch end, loss: 1.420375, Test Acc: 51.20 %\n",
      "3 epoch end, loss: 1.092179, Test Acc: 58.17 %\n",
      "4 epoch end, loss: 0.879076, Test Acc: 67.94 %\n",
      "5 epoch end, loss: 0.734452, Test Acc: 72.49 %\n",
      "6 epoch end, loss: 0.639003, Test Acc: 71.48 %\n",
      "7 epoch end, loss: 0.582432, Test Acc: 79.96 %\n",
      "8 epoch end, loss: 0.539607, Test Acc: 77.18 %\n",
      "9 epoch end, loss: 0.500950, Test Acc: 80.22 %\n",
      "10 epoch end, loss: 0.476307, Test Acc: 80.49 %\n",
      "11 epoch end, loss: 0.452554, Test Acc: 82.54 %\n",
      "12 epoch end, loss: 0.427944, Test Acc: 79.19 %\n",
      "13 epoch end, loss: 0.412460, Test Acc: 79.92 %\n",
      "14 epoch end, loss: 0.399861, Test Acc: 81.57 %\n",
      "15 epoch end, loss: 0.385104, Test Acc: 80.85 %\n",
      "16 epoch end, loss: 0.377587, Test Acc: 85.56 %\n",
      "17 epoch end, loss: 0.356465, Test Acc: 84.45 %\n",
      "18 epoch end, loss: 0.350062, Test Acc: 83.29 %\n",
      "19 epoch end, loss: 0.340201, Test Acc: 83.42 %\n",
      "20 epoch end, loss: 0.332872, Test Acc: 84.45 %\n",
      "21 epoch end, loss: 0.327651, Test Acc: 83.56 %\n",
      "22 epoch end, loss: 0.318086, Test Acc: 85.81 %\n",
      "23 epoch end, loss: 0.309202, Test Acc: 83.41 %\n",
      "24 epoch end, loss: 0.311296, Test Acc: 85.76 %\n",
      "25 epoch end, loss: 0.298446, Test Acc: 84.35 %\n",
      "26 epoch end, loss: 0.292684, Test Acc: 86.79 %\n",
      "27 epoch end, loss: 0.292892, Test Acc: 85.10 %\n",
      "28 epoch end, loss: 0.286634, Test Acc: 83.55 %\n",
      "29 epoch end, loss: 0.280726, Test Acc: 82.16 %\n",
      "30 epoch end, loss: 0.275126, Test Acc: 81.89 %\n",
      "31 epoch end, loss: 0.273792, Test Acc: 84.96 %\n",
      "32 epoch end, loss: 0.264536, Test Acc: 84.42 %\n",
      "33 epoch end, loss: 0.263389, Test Acc: 86.73 %\n",
      "34 epoch end, loss: 0.259901, Test Acc: 85.74 %\n",
      "35 epoch end, loss: 0.256508, Test Acc: 84.96 %\n",
      "36 epoch end, loss: 0.247048, Test Acc: 84.86 %\n",
      "37 epoch end, loss: 0.250436, Test Acc: 84.67 %\n",
      "38 epoch end, loss: 0.248382, Test Acc: 85.07 %\n",
      "39 epoch end, loss: 0.246169, Test Acc: 86.21 %\n",
      "40 epoch end, loss: 0.236973, Test Acc: 85.15 %\n",
      "41 epoch end, loss: 0.237448, Test Acc: 87.66 %\n",
      "42 epoch end, loss: 0.236833, Test Acc: 86.77 %\n",
      "43 epoch end, loss: 0.231112, Test Acc: 86.78 %\n",
      "44 epoch end, loss: 0.232145, Test Acc: 87.42 %\n",
      "45 epoch end, loss: 0.224057, Test Acc: 87.58 %\n",
      "46 epoch end, loss: 0.228730, Test Acc: 85.83 %\n",
      "47 epoch end, loss: 0.224748, Test Acc: 85.80 %\n",
      "48 epoch end, loss: 0.226312, Test Acc: 83.99 %\n",
      "49 epoch end, loss: 0.216672, Test Acc: 86.74 %\n",
      "50 epoch end, loss: 0.217358, Test Acc: 86.73 %\n",
      "51 epoch end, loss: 0.217803, Test Acc: 86.11 %\n",
      "52 epoch end, loss: 0.215181, Test Acc: 86.98 %\n",
      "53 epoch end, loss: 0.216640, Test Acc: 87.10 %\n",
      "54 epoch end, loss: 0.208697, Test Acc: 88.00 %\n",
      "55 epoch end, loss: 0.213922, Test Acc: 85.23 %\n",
      "56 epoch end, loss: 0.207777, Test Acc: 87.87 %\n",
      "57 epoch end, loss: 0.209881, Test Acc: 87.14 %\n",
      "58 epoch end, loss: 0.201714, Test Acc: 87.34 %\n",
      "59 epoch end, loss: 0.207249, Test Acc: 86.59 %\n",
      "60 epoch end, loss: 0.202459, Test Acc: 86.95 %\n",
      "61 epoch end, loss: 0.112644, Test Acc: 91.87 %\n",
      "62 epoch end, loss: 0.082809, Test Acc: 92.05 %\n",
      "63 epoch end, loss: 0.070381, Test Acc: 92.11 %\n",
      "64 epoch end, loss: 0.063023, Test Acc: 92.14 %\n",
      "65 epoch end, loss: 0.057376, Test Acc: 92.21 %\n",
      "66 epoch end, loss: 0.054329, Test Acc: 92.07 %\n",
      "67 epoch end, loss: 0.049414, Test Acc: 91.62 %\n",
      "68 epoch end, loss: 0.048691, Test Acc: 92.14 %\n",
      "69 epoch end, loss: 0.043194, Test Acc: 92.10 %\n",
      "70 epoch end, loss: 0.041451, Test Acc: 92.09 %\n",
      "71 epoch end, loss: 0.038544, Test Acc: 92.35 %\n",
      "72 epoch end, loss: 0.037954, Test Acc: 92.01 %\n",
      "73 epoch end, loss: 0.035537, Test Acc: 92.08 %\n",
      "74 epoch end, loss: 0.036364, Test Acc: 91.95 %\n",
      "75 epoch end, loss: 0.034957, Test Acc: 91.85 %\n",
      "76 epoch end, loss: 0.033612, Test Acc: 91.96 %\n",
      "77 epoch end, loss: 0.031903, Test Acc: 91.70 %\n",
      "78 epoch end, loss: 0.033249, Test Acc: 91.84 %\n",
      "79 epoch end, loss: 0.032705, Test Acc: 92.09 %\n",
      "80 epoch end, loss: 0.032467, Test Acc: 91.83 %\n",
      "81 epoch end, loss: 0.032059, Test Acc: 91.97 %\n",
      "82 epoch end, loss: 0.032755, Test Acc: 91.86 %\n",
      "83 epoch end, loss: 0.030120, Test Acc: 92.01 %\n",
      "84 epoch end, loss: 0.030562, Test Acc: 91.86 %\n",
      "85 epoch end, loss: 0.030035, Test Acc: 91.82 %\n",
      "86 epoch end, loss: 0.031036, Test Acc: 91.76 %\n",
      "87 epoch end, loss: 0.029204, Test Acc: 92.14 %\n",
      "88 epoch end, loss: 0.030011, Test Acc: 92.23 %\n",
      "89 epoch end, loss: 0.033376, Test Acc: 91.91 %\n",
      "90 epoch end, loss: 0.029021, Test Acc: 91.37 %\n",
      "91 epoch end, loss: 0.027072, Test Acc: 91.68 %\n",
      "92 epoch end, loss: 0.029338, Test Acc: 91.79 %\n",
      "93 epoch end, loss: 0.029276, Test Acc: 91.89 %\n",
      "94 epoch end, loss: 0.030593, Test Acc: 91.94 %\n",
      "95 epoch end, loss: 0.030222, Test Acc: 91.15 %\n",
      "96 epoch end, loss: 0.030251, Test Acc: 91.02 %\n",
      "97 epoch end, loss: 0.032234, Test Acc: 92.01 %\n",
      "98 epoch end, loss: 0.032790, Test Acc: 91.23 %\n",
      "99 epoch end, loss: 0.033629, Test Acc: 91.44 %\n",
      "100 epoch end, loss: 0.033443, Test Acc: 91.53 %\n",
      "101 epoch end, loss: 0.030289, Test Acc: 91.35 %\n",
      "102 epoch end, loss: 0.033264, Test Acc: 91.42 %\n",
      "103 epoch end, loss: 0.030751, Test Acc: 91.52 %\n",
      "104 epoch end, loss: 0.037075, Test Acc: 91.54 %\n",
      "105 epoch end, loss: 0.031285, Test Acc: 91.72 %\n",
      "106 epoch end, loss: 0.033758, Test Acc: 91.24 %\n",
      "107 epoch end, loss: 0.033278, Test Acc: 91.38 %\n",
      "108 epoch end, loss: 0.035975, Test Acc: 91.23 %\n",
      "109 epoch end, loss: 0.033959, Test Acc: 91.56 %\n",
      "110 epoch end, loss: 0.034603, Test Acc: 91.27 %\n",
      "111 epoch end, loss: 0.034967, Test Acc: 91.49 %\n",
      "112 epoch end, loss: 0.037133, Test Acc: 91.32 %\n",
      "113 epoch end, loss: 0.034662, Test Acc: 91.79 %\n",
      "114 epoch end, loss: 0.036231, Test Acc: 91.69 %\n",
      "115 epoch end, loss: 0.037655, Test Acc: 91.32 %\n",
      "116 epoch end, loss: 0.037744, Test Acc: 91.49 %\n",
      "117 epoch end, loss: 0.036717, Test Acc: 91.48 %\n",
      "118 epoch end, loss: 0.036831, Test Acc: 91.36 %\n",
      "119 epoch end, loss: 0.039899, Test Acc: 91.31 %\n",
      "120 epoch end, loss: 0.040850, Test Acc: 91.42 %\n",
      "121 epoch end, loss: 0.020516, Test Acc: 92.75 %\n",
      "122 epoch end, loss: 0.013454, Test Acc: 92.70 %\n",
      "123 epoch end, loss: 0.010867, Test Acc: 92.96 %\n",
      "124 epoch end, loss: 0.010183, Test Acc: 93.04 %\n",
      "125 epoch end, loss: 0.009814, Test Acc: 92.83 %\n",
      "126 epoch end, loss: 0.008807, Test Acc: 92.71 %\n",
      "127 epoch end, loss: 0.008341, Test Acc: 92.86 %\n",
      "128 epoch end, loss: 0.007430, Test Acc: 92.84 %\n",
      "129 epoch end, loss: 0.007427, Test Acc: 92.84 %\n",
      "130 epoch end, loss: 0.007223, Test Acc: 92.86 %\n",
      "131 epoch end, loss: 0.006149, Test Acc: 92.77 %\n",
      "132 epoch end, loss: 0.006383, Test Acc: 93.01 %\n",
      "133 epoch end, loss: 0.006252, Test Acc: 92.89 %\n",
      "134 epoch end, loss: 0.006055, Test Acc: 93.03 %\n",
      "135 epoch end, loss: 0.005622, Test Acc: 93.05 %\n",
      "136 epoch end, loss: 0.005552, Test Acc: 92.99 %\n",
      "137 epoch end, loss: 0.005234, Test Acc: 92.85 %\n",
      "138 epoch end, loss: 0.005513, Test Acc: 92.89 %\n",
      "139 epoch end, loss: 0.005421, Test Acc: 92.89 %\n",
      "140 epoch end, loss: 0.004841, Test Acc: 93.05 %\n",
      "141 epoch end, loss: 0.004652, Test Acc: 93.01 %\n",
      "142 epoch end, loss: 0.004736, Test Acc: 93.00 %\n",
      "143 epoch end, loss: 0.004548, Test Acc: 93.21 %\n",
      "144 epoch end, loss: 0.004322, Test Acc: 93.02 %\n",
      "145 epoch end, loss: 0.004685, Test Acc: 93.14 %\n",
      "146 epoch end, loss: 0.004176, Test Acc: 93.09 %\n",
      "147 epoch end, loss: 0.003929, Test Acc: 93.13 %\n",
      "148 epoch end, loss: 0.004326, Test Acc: 93.14 %\n",
      "149 epoch end, loss: 0.004290, Test Acc: 93.06 %\n",
      "150 epoch end, loss: 0.004151, Test Acc: 93.09 %\n",
      "151 epoch end, loss: 0.003784, Test Acc: 93.10 %\n",
      "152 epoch end, loss: 0.003572, Test Acc: 93.10 %\n",
      "153 epoch end, loss: 0.003690, Test Acc: 93.09 %\n",
      "154 epoch end, loss: 0.003565, Test Acc: 93.11 %\n",
      "155 epoch end, loss: 0.003602, Test Acc: 93.07 %\n",
      "156 epoch end, loss: 0.003617, Test Acc: 93.10 %\n",
      "157 epoch end, loss: 0.003390, Test Acc: 93.09 %\n",
      "158 epoch end, loss: 0.003479, Test Acc: 93.29 %\n",
      "159 epoch end, loss: 0.003406, Test Acc: 93.22 %\n",
      "160 epoch end, loss: 0.003226, Test Acc: 93.24 %\n",
      "161 epoch end, loss: 0.003502, Test Acc: 93.09 %\n",
      "162 epoch end, loss: 0.003160, Test Acc: 93.26 %\n",
      "163 epoch end, loss: 0.003273, Test Acc: 93.15 %\n",
      "164 epoch end, loss: 0.003383, Test Acc: 93.23 %\n",
      "165 epoch end, loss: 0.003608, Test Acc: 93.15 %\n",
      "166 epoch end, loss: 0.003227, Test Acc: 93.11 %\n",
      "167 epoch end, loss: 0.003203, Test Acc: 93.19 %\n",
      "168 epoch end, loss: 0.003195, Test Acc: 93.24 %\n",
      "169 epoch end, loss: 0.003218, Test Acc: 93.22 %\n",
      "170 epoch end, loss: 0.003350, Test Acc: 93.13 %\n"
     ]
    },
    {
     "name": "stdout",
     "output_type": "stream",
     "text": [
      "171 epoch end, loss: 0.003379, Test Acc: 93.17 %\n",
      "172 epoch end, loss: 0.003021, Test Acc: 93.24 %\n",
      "173 epoch end, loss: 0.003158, Test Acc: 93.14 %\n",
      "174 epoch end, loss: 0.003166, Test Acc: 93.15 %\n",
      "175 epoch end, loss: 0.003273, Test Acc: 93.13 %\n",
      "176 epoch end, loss: 0.003044, Test Acc: 93.22 %\n",
      "177 epoch end, loss: 0.002951, Test Acc: 93.19 %\n",
      "178 epoch end, loss: 0.003283, Test Acc: 93.21 %\n",
      "179 epoch end, loss: 0.003076, Test Acc: 93.25 %\n",
      "180 epoch end, loss: 0.003038, Test Acc: 93.18 %\n",
      "\n",
      "Training is finished!\n"
     ]
    }
   ],
   "source": [
    "for epoch in range(num_epoch):  # loop over the dataset multiple times\n",
    "\n",
    "    running_loss = 0.0\n",
    "    scheduler.step()\n",
    "    net.TrainMode()\n",
    "    for i, data in enumerate(trainloader, 0):\n",
    "        # get the inputs\n",
    "        inputs, labels = data\n",
    "\n",
    "        # wrap them in Variable\n",
    "        inputs = Variable(inputs.cuda())\n",
    "        labels = Variable(labels.cuda())\n",
    "\n",
    "        # zero the parameter gradients\n",
    "        optimizer.zero_grad()\n",
    "\n",
    "        # forward + backward + optimize\n",
    "        #scheduler.step()\n",
    "\n",
    "        outputs = net(inputs)\n",
    "        loss = criterion(outputs, labels)\n",
    "        loss.backward()\n",
    "        optimizer.step()\n",
    "\n",
    "        running_loss = (running_loss * i + loss.cpu().data.numpy()) / (i+1)\n",
    "\n",
    "    correct = 0\n",
    "    total = 0\n",
    "    net.TestMode()\n",
    "    for data in testloader:\n",
    "        images, labels = data\n",
    "        outputs = net(Variable(images.cuda()))\n",
    "        _, predicted = torch.max(outputs.data, 1)\n",
    "        total += labels.size(0)\n",
    "        correct += (predicted == labels.cuda()).sum()\n",
    "        \n",
    "    print('%d epoch end, loss: %3.6f, Test Acc: %4.2f %%' %(epoch + 1, running_loss, 100 * correct / total))\n",
    "    \n",
    "print('\\nTraining is finished!')"
   ]
  },
  {
   "cell_type": "code",
   "execution_count": 9,
   "metadata": {},
   "outputs": [
    {
     "name": "stdout",
     "output_type": "stream",
     "text": [
      "Accuracy of the network on the 10000 test images: 93.18 %\n"
     ]
    }
   ],
   "source": [
    "correct = 0\n",
    "total = 0\n",
    "net.TestMode()\n",
    "for data in testloader:\n",
    "    images, labels = data\n",
    "    outputs = net(Variable(images.cuda()))\n",
    "    _, predicted = torch.max(outputs.data, 1)\n",
    "    total += labels.size(0)\n",
    "    correct += (predicted == labels.cuda()).sum()\n",
    "\n",
    "print('Accuracy of the network on the 10000 test images: %4.2f %%' % (100 * correct / total))"
   ]
  },
  {
   "cell_type": "code",
   "execution_count": 10,
   "metadata": {
    "scrolled": true
   },
   "outputs": [],
   "source": [
    "torch.save(net.GetStateDict(), pretrained_model)"
   ]
  }
 ],
 "metadata": {
  "kernelspec": {
   "display_name": "Python 3",
   "language": "python",
   "name": "python3"
  },
  "language_info": {
   "codemirror_mode": {
    "name": "ipython",
    "version": 3
   },
   "file_extension": ".py",
   "mimetype": "text/x-python",
   "name": "python",
   "nbconvert_exporter": "python",
   "pygments_lexer": "ipython3",
   "version": "3.5.2"
  }
 },
 "nbformat": 4,
 "nbformat_minor": 2
}
