{
 "cells": [
  {
   "cell_type": "markdown",
   "metadata": {},
   "source": [
    "## Import torch and model"
   ]
  },
  {
   "cell_type": "code",
   "execution_count": 1,
   "metadata": {},
   "outputs": [],
   "source": [
    "import os\n",
    "os.environ[\"CUDA_VISIBLE_DEVICES\"] = '1'"
   ]
  },
  {
   "cell_type": "code",
   "execution_count": 2,
   "metadata": {},
   "outputs": [],
   "source": [
    "import torch\n",
    "import torchvision\n",
    "import torchvision.transforms as transforms\n",
    "import torch.optim as optim\n",
    "import torch.optim.lr_scheduler as lr_scheduler\n",
    "from torch.autograd import Variable\n",
    "import torch.nn as nn\n",
    "import torch.nn.functional as F\n",
    "\n",
    "import numpy as np"
   ]
  },
  {
   "cell_type": "code",
   "execution_count": 3,
   "metadata": {},
   "outputs": [],
   "source": [
    "import sys\n",
    "sys.path.append(\"../common\")\n",
    "\n",
    "from model_generator import ModelGenerator\n",
    "from net import Net"
   ]
  },
  {
   "cell_type": "markdown",
   "metadata": {},
   "source": [
    "## Set hyper params"
   ]
  },
  {
   "cell_type": "code",
   "execution_count": 4,
   "metadata": {},
   "outputs": [],
   "source": [
    "batch_size = 128\n",
    "num_epoch  = 180\n",
    "\n",
    "lr = 0.1\n",
    "gamma = 0.2             # learning rate decay\n",
    "weight_decay = 0.0001\n",
    "\n",
    "## for SGD\n",
    "opt_momentum = 0.9\n",
    "opt_nesterov = True\n",
    "\n",
    "dropout_on = False\n",
    "batchnorm_on = True \n",
    "\n",
    "scheduler_step_size = [60, 120, 150]\n",
    "\n",
    "pretrained_model       = './cifar10_resnet56_pretrained.pth'"
   ]
  },
  {
   "cell_type": "markdown",
   "metadata": {},
   "source": [
    "## Load dataset"
   ]
  },
  {
   "cell_type": "code",
   "execution_count": 5,
   "metadata": {},
   "outputs": [
    {
     "name": "stdout",
     "output_type": "stream",
     "text": [
      "Files already downloaded and verified\n",
      "Files already downloaded and verified\n"
     ]
    }
   ],
   "source": [
    "transform = transforms.Compose(\n",
    "    [transforms.ToTensor(),\n",
    "     transforms.Normalize(mean=(0.4914, 0.4822, 0.4465), std=(0.2023, 0.1994, 0.2010))])\n",
    "\n",
    "transform_train = transforms.Compose(\n",
    "    [transforms.RandomHorizontalFlip(),\n",
    "     transforms.RandomCrop(32, 4),\n",
    "     transforms.ToTensor(),\n",
    "     transforms.Normalize(mean=(0.4914, 0.4822, 0.4465), std=(0.2023, 0.1994, 0.2010))])\n",
    "\n",
    "trainset = torchvision.datasets.CIFAR10(root='./data', train=True,\n",
    "                                        download=True, transform=transform_train)\n",
    "trainloader = torch.utils.data.DataLoader(trainset, batch_size=batch_size,\n",
    "                                          shuffle=True, num_workers=2)\n",
    "\n",
    "testset = torchvision.datasets.CIFAR10(root='./data', train=False,\n",
    "                                       download=True, transform=transform)\n",
    "testloader = torch.utils.data.DataLoader(testset, batch_size=batch_size,\n",
    "                                         shuffle=False, num_workers=2)\n",
    "\n",
    "classes = ('plane', 'car', 'bird', 'cat',\n",
    "           'deer', 'dog', 'frog', 'horse', 'ship', 'truck')"
   ]
  },
  {
   "cell_type": "markdown",
   "metadata": {},
   "source": [
    "## (Resnet56) model"
   ]
  },
  {
   "cell_type": "code",
   "execution_count": 6,
   "metadata": {},
   "outputs": [],
   "source": [
    "model_gen = ModelGenerator(dropout = dropout_on, batchnorm = batchnorm_on)\n",
    "\n",
    "model_gen.CifarResnetConfig(num_layers = 56, cifar = 10)\n",
    "model = model_gen.GetCifarResnet()\n",
    "\n",
    "net = Net(model)\n",
    "\n",
    "net.Gpu()"
   ]
  },
  {
   "cell_type": "code",
   "execution_count": 7,
   "metadata": {},
   "outputs": [],
   "source": [
    "criterion = nn.CrossEntropyLoss()\n",
    "\n",
    "optimizer = optim.SGD(net.GetTotalParams(), lr=lr, weight_decay=weight_decay, momentum=opt_momentum, nesterov=opt_nesterov )\n",
    "\n",
    "scheduler = lr_scheduler.MultiStepLR(optimizer, milestones = scheduler_step_size, gamma = gamma)"
   ]
  },
  {
   "cell_type": "code",
   "execution_count": 8,
   "metadata": {
    "scrolled": true
   },
   "outputs": [
    {
     "name": "stdout",
     "output_type": "stream",
     "text": [
      "1 epoch end, loss: 1.577850, Test Acc: 51.24 %\n",
      "2 epoch end, loss: 1.058704, Test Acc: 66.81 %\n",
      "3 epoch end, loss: 0.838358, Test Acc: 68.07 %\n",
      "4 epoch end, loss: 0.707965, Test Acc: 74.57 %\n",
      "5 epoch end, loss: 0.622400, Test Acc: 76.34 %\n",
      "6 epoch end, loss: 0.572558, Test Acc: 79.07 %\n",
      "7 epoch end, loss: 0.524222, Test Acc: 76.08 %\n",
      "8 epoch end, loss: 0.491849, Test Acc: 82.03 %\n",
      "9 epoch end, loss: 0.462730, Test Acc: 80.30 %\n",
      "10 epoch end, loss: 0.436930, Test Acc: 83.42 %\n",
      "11 epoch end, loss: 0.416748, Test Acc: 83.66 %\n",
      "12 epoch end, loss: 0.399653, Test Acc: 82.94 %\n",
      "13 epoch end, loss: 0.380174, Test Acc: 84.41 %\n",
      "14 epoch end, loss: 0.366987, Test Acc: 85.04 %\n",
      "15 epoch end, loss: 0.352355, Test Acc: 84.89 %\n",
      "16 epoch end, loss: 0.342741, Test Acc: 84.02 %\n",
      "17 epoch end, loss: 0.331320, Test Acc: 85.51 %\n",
      "18 epoch end, loss: 0.320803, Test Acc: 86.36 %\n",
      "19 epoch end, loss: 0.308369, Test Acc: 82.03 %\n",
      "20 epoch end, loss: 0.300488, Test Acc: 84.99 %\n",
      "21 epoch end, loss: 0.294801, Test Acc: 84.53 %\n",
      "22 epoch end, loss: 0.287585, Test Acc: 85.75 %\n",
      "23 epoch end, loss: 0.282265, Test Acc: 86.53 %\n",
      "24 epoch end, loss: 0.278816, Test Acc: 85.01 %\n",
      "25 epoch end, loss: 0.270274, Test Acc: 86.47 %\n",
      "26 epoch end, loss: 0.261099, Test Acc: 85.42 %\n",
      "27 epoch end, loss: 0.260104, Test Acc: 85.42 %\n",
      "28 epoch end, loss: 0.253663, Test Acc: 86.73 %\n",
      "29 epoch end, loss: 0.248387, Test Acc: 86.02 %\n",
      "30 epoch end, loss: 0.246105, Test Acc: 85.84 %\n",
      "31 epoch end, loss: 0.242197, Test Acc: 86.41 %\n",
      "32 epoch end, loss: 0.235429, Test Acc: 85.38 %\n",
      "33 epoch end, loss: 0.231939, Test Acc: 84.98 %\n",
      "34 epoch end, loss: 0.229191, Test Acc: 86.80 %\n",
      "35 epoch end, loss: 0.228139, Test Acc: 86.67 %\n",
      "36 epoch end, loss: 0.223030, Test Acc: 85.84 %\n",
      "37 epoch end, loss: 0.219586, Test Acc: 86.75 %\n",
      "38 epoch end, loss: 0.217885, Test Acc: 87.36 %\n",
      "39 epoch end, loss: 0.220405, Test Acc: 87.21 %\n",
      "40 epoch end, loss: 0.216391, Test Acc: 87.73 %\n",
      "41 epoch end, loss: 0.209710, Test Acc: 87.87 %\n",
      "42 epoch end, loss: 0.209439, Test Acc: 87.88 %\n",
      "43 epoch end, loss: 0.206074, Test Acc: 85.99 %\n",
      "44 epoch end, loss: 0.205585, Test Acc: 87.76 %\n",
      "45 epoch end, loss: 0.201626, Test Acc: 86.82 %\n",
      "46 epoch end, loss: 0.200649, Test Acc: 86.40 %\n",
      "47 epoch end, loss: 0.199430, Test Acc: 88.60 %\n",
      "48 epoch end, loss: 0.196227, Test Acc: 87.72 %\n",
      "49 epoch end, loss: 0.192133, Test Acc: 86.02 %\n",
      "50 epoch end, loss: 0.195130, Test Acc: 88.56 %\n",
      "51 epoch end, loss: 0.194846, Test Acc: 88.96 %\n",
      "52 epoch end, loss: 0.187577, Test Acc: 86.66 %\n",
      "53 epoch end, loss: 0.191139, Test Acc: 88.40 %\n",
      "54 epoch end, loss: 0.191963, Test Acc: 88.36 %\n",
      "55 epoch end, loss: 0.186924, Test Acc: 87.10 %\n",
      "56 epoch end, loss: 0.188115, Test Acc: 87.03 %\n",
      "57 epoch end, loss: 0.180385, Test Acc: 87.98 %\n",
      "58 epoch end, loss: 0.182926, Test Acc: 87.52 %\n",
      "59 epoch end, loss: 0.181762, Test Acc: 87.65 %\n",
      "60 epoch end, loss: 0.177232, Test Acc: 85.71 %\n",
      "61 epoch end, loss: 0.096454, Test Acc: 91.80 %\n",
      "62 epoch end, loss: 0.064596, Test Acc: 91.72 %\n",
      "63 epoch end, loss: 0.055717, Test Acc: 91.88 %\n",
      "64 epoch end, loss: 0.049368, Test Acc: 91.93 %\n",
      "65 epoch end, loss: 0.044787, Test Acc: 91.85 %\n",
      "66 epoch end, loss: 0.041911, Test Acc: 92.01 %\n",
      "67 epoch end, loss: 0.037667, Test Acc: 91.78 %\n",
      "68 epoch end, loss: 0.035536, Test Acc: 91.83 %\n",
      "69 epoch end, loss: 0.034705, Test Acc: 91.49 %\n",
      "70 epoch end, loss: 0.033532, Test Acc: 92.00 %\n",
      "71 epoch end, loss: 0.032171, Test Acc: 91.39 %\n",
      "72 epoch end, loss: 0.031456, Test Acc: 91.82 %\n",
      "73 epoch end, loss: 0.027778, Test Acc: 91.92 %\n",
      "74 epoch end, loss: 0.028058, Test Acc: 92.05 %\n",
      "75 epoch end, loss: 0.029546, Test Acc: 91.67 %\n",
      "76 epoch end, loss: 0.027383, Test Acc: 91.94 %\n",
      "77 epoch end, loss: 0.026355, Test Acc: 91.90 %\n",
      "78 epoch end, loss: 0.027554, Test Acc: 92.10 %\n",
      "79 epoch end, loss: 0.026908, Test Acc: 91.86 %\n",
      "80 epoch end, loss: 0.024842, Test Acc: 91.89 %\n",
      "81 epoch end, loss: 0.023251, Test Acc: 91.64 %\n",
      "82 epoch end, loss: 0.028923, Test Acc: 91.54 %\n",
      "83 epoch end, loss: 0.026313, Test Acc: 91.86 %\n",
      "84 epoch end, loss: 0.025368, Test Acc: 91.34 %\n",
      "85 epoch end, loss: 0.026584, Test Acc: 91.83 %\n",
      "86 epoch end, loss: 0.024420, Test Acc: 91.80 %\n",
      "87 epoch end, loss: 0.024735, Test Acc: 91.71 %\n",
      "88 epoch end, loss: 0.025637, Test Acc: 91.65 %\n",
      "89 epoch end, loss: 0.026754, Test Acc: 91.38 %\n",
      "90 epoch end, loss: 0.027511, Test Acc: 91.73 %\n",
      "91 epoch end, loss: 0.025928, Test Acc: 91.34 %\n",
      "92 epoch end, loss: 0.027351, Test Acc: 91.55 %\n",
      "93 epoch end, loss: 0.027814, Test Acc: 91.43 %\n",
      "94 epoch end, loss: 0.027557, Test Acc: 91.54 %\n",
      "95 epoch end, loss: 0.028610, Test Acc: 91.33 %\n",
      "96 epoch end, loss: 0.025873, Test Acc: 91.02 %\n",
      "97 epoch end, loss: 0.029846, Test Acc: 91.68 %\n",
      "98 epoch end, loss: 0.026485, Test Acc: 91.72 %\n",
      "99 epoch end, loss: 0.027019, Test Acc: 91.65 %\n",
      "100 epoch end, loss: 0.027496, Test Acc: 91.27 %\n",
      "101 epoch end, loss: 0.030722, Test Acc: 91.24 %\n",
      "102 epoch end, loss: 0.028106, Test Acc: 91.37 %\n",
      "103 epoch end, loss: 0.030498, Test Acc: 91.67 %\n",
      "104 epoch end, loss: 0.029084, Test Acc: 91.22 %\n",
      "105 epoch end, loss: 0.032189, Test Acc: 91.75 %\n",
      "106 epoch end, loss: 0.028183, Test Acc: 91.30 %\n",
      "107 epoch end, loss: 0.030256, Test Acc: 91.52 %\n",
      "108 epoch end, loss: 0.028433, Test Acc: 91.59 %\n",
      "109 epoch end, loss: 0.031536, Test Acc: 91.03 %\n",
      "110 epoch end, loss: 0.031866, Test Acc: 91.23 %\n",
      "111 epoch end, loss: 0.028377, Test Acc: 91.27 %\n",
      "112 epoch end, loss: 0.032955, Test Acc: 90.80 %\n",
      "113 epoch end, loss: 0.035105, Test Acc: 90.57 %\n",
      "114 epoch end, loss: 0.034047, Test Acc: 91.36 %\n",
      "115 epoch end, loss: 0.032632, Test Acc: 91.14 %\n",
      "116 epoch end, loss: 0.033742, Test Acc: 91.34 %\n",
      "117 epoch end, loss: 0.033172, Test Acc: 91.13 %\n",
      "118 epoch end, loss: 0.031134, Test Acc: 91.66 %\n",
      "119 epoch end, loss: 0.031719, Test Acc: 90.91 %\n",
      "120 epoch end, loss: 0.034339, Test Acc: 91.06 %\n",
      "121 epoch end, loss: 0.017932, Test Acc: 92.48 %\n",
      "122 epoch end, loss: 0.011500, Test Acc: 92.56 %\n",
      "123 epoch end, loss: 0.008846, Test Acc: 92.44 %\n",
      "124 epoch end, loss: 0.007612, Test Acc: 92.52 %\n",
      "125 epoch end, loss: 0.006224, Test Acc: 92.50 %\n",
      "126 epoch end, loss: 0.006454, Test Acc: 92.47 %\n",
      "127 epoch end, loss: 0.006251, Test Acc: 92.56 %\n",
      "128 epoch end, loss: 0.005335, Test Acc: 92.46 %\n",
      "129 epoch end, loss: 0.005539, Test Acc: 92.56 %\n",
      "130 epoch end, loss: 0.004923, Test Acc: 92.56 %\n",
      "131 epoch end, loss: 0.004483, Test Acc: 92.57 %\n",
      "132 epoch end, loss: 0.004318, Test Acc: 92.59 %\n",
      "133 epoch end, loss: 0.004133, Test Acc: 92.68 %\n",
      "134 epoch end, loss: 0.003971, Test Acc: 92.59 %\n",
      "135 epoch end, loss: 0.004250, Test Acc: 92.64 %\n",
      "136 epoch end, loss: 0.004110, Test Acc: 92.72 %\n",
      "137 epoch end, loss: 0.003424, Test Acc: 92.67 %\n",
      "138 epoch end, loss: 0.003284, Test Acc: 92.86 %\n",
      "139 epoch end, loss: 0.003643, Test Acc: 92.84 %\n",
      "140 epoch end, loss: 0.003037, Test Acc: 92.88 %\n",
      "141 epoch end, loss: 0.003320, Test Acc: 92.79 %\n",
      "142 epoch end, loss: 0.002795, Test Acc: 92.76 %\n",
      "143 epoch end, loss: 0.002936, Test Acc: 92.71 %\n",
      "144 epoch end, loss: 0.002761, Test Acc: 92.74 %\n",
      "145 epoch end, loss: 0.002445, Test Acc: 92.79 %\n",
      "146 epoch end, loss: 0.002507, Test Acc: 92.75 %\n",
      "147 epoch end, loss: 0.002664, Test Acc: 92.94 %\n",
      "148 epoch end, loss: 0.002675, Test Acc: 92.77 %\n",
      "149 epoch end, loss: 0.002432, Test Acc: 92.85 %\n",
      "150 epoch end, loss: 0.002645, Test Acc: 92.93 %\n",
      "151 epoch end, loss: 0.002383, Test Acc: 93.03 %\n",
      "152 epoch end, loss: 0.002549, Test Acc: 92.96 %\n",
      "153 epoch end, loss: 0.002363, Test Acc: 92.92 %\n",
      "154 epoch end, loss: 0.002199, Test Acc: 92.93 %\n",
      "155 epoch end, loss: 0.002403, Test Acc: 92.87 %\n",
      "156 epoch end, loss: 0.002256, Test Acc: 92.88 %\n",
      "157 epoch end, loss: 0.002130, Test Acc: 93.01 %\n",
      "158 epoch end, loss: 0.002202, Test Acc: 93.07 %\n",
      "159 epoch end, loss: 0.002043, Test Acc: 92.99 %\n",
      "160 epoch end, loss: 0.002252, Test Acc: 93.07 %\n",
      "161 epoch end, loss: 0.001964, Test Acc: 92.95 %\n",
      "162 epoch end, loss: 0.001954, Test Acc: 92.95 %\n",
      "163 epoch end, loss: 0.001870, Test Acc: 92.97 %\n",
      "164 epoch end, loss: 0.002070, Test Acc: 92.85 %\n",
      "165 epoch end, loss: 0.001864, Test Acc: 92.87 %\n",
      "166 epoch end, loss: 0.002133, Test Acc: 92.93 %\n",
      "167 epoch end, loss: 0.001957, Test Acc: 92.90 %\n",
      "168 epoch end, loss: 0.002029, Test Acc: 92.95 %\n",
      "169 epoch end, loss: 0.001966, Test Acc: 93.00 %\n",
      "170 epoch end, loss: 0.001821, Test Acc: 93.00 %\n"
     ]
    },
    {
     "name": "stdout",
     "output_type": "stream",
     "text": [
      "171 epoch end, loss: 0.001954, Test Acc: 92.89 %\n",
      "172 epoch end, loss: 0.002044, Test Acc: 92.87 %\n",
      "173 epoch end, loss: 0.001984, Test Acc: 92.90 %\n",
      "174 epoch end, loss: 0.002026, Test Acc: 92.90 %\n",
      "175 epoch end, loss: 0.001781, Test Acc: 92.97 %\n",
      "176 epoch end, loss: 0.001791, Test Acc: 92.97 %\n",
      "177 epoch end, loss: 0.001791, Test Acc: 93.01 %\n",
      "178 epoch end, loss: 0.001716, Test Acc: 93.01 %\n",
      "179 epoch end, loss: 0.001609, Test Acc: 92.92 %\n",
      "180 epoch end, loss: 0.001703, Test Acc: 92.97 %\n",
      "\n",
      "Training is finished!\n"
     ]
    }
   ],
   "source": [
    "for epoch in range(num_epoch):  # loop over the dataset multiple times\n",
    "\n",
    "    running_loss = 0.0\n",
    "    scheduler.step()\n",
    "    net.TrainMode()\n",
    "    for i, data in enumerate(trainloader, 0):\n",
    "        # get the inputs\n",
    "        inputs, labels = data\n",
    "\n",
    "        # wrap them in Variable\n",
    "        inputs = Variable(inputs.cuda())\n",
    "        labels = Variable(labels.cuda())\n",
    "\n",
    "        # zero the parameter gradients\n",
    "        optimizer.zero_grad()\n",
    "\n",
    "        # forward + backward + optimize\n",
    "        #scheduler.step()\n",
    "\n",
    "        outputs = net(inputs)\n",
    "        loss = criterion(outputs, labels)\n",
    "        loss.backward()\n",
    "        optimizer.step()\n",
    "\n",
    "        running_loss = (running_loss * i + loss.cpu().data.numpy()) / (i+1)\n",
    "\n",
    "    correct = 0\n",
    "    total = 0\n",
    "    net.TestMode()\n",
    "    for data in testloader:\n",
    "        images, labels = data\n",
    "        outputs = net(Variable(images.cuda()))\n",
    "        _, predicted = torch.max(outputs.data, 1)\n",
    "        total += labels.size(0)\n",
    "        correct += (predicted == labels.cuda()).sum()\n",
    "        \n",
    "    print('%d epoch end, loss: %3.6f, Test Acc: %4.2f %%' %(epoch + 1, running_loss, 100 * correct / total))\n",
    "    \n",
    "print('\\nTraining is finished!')"
   ]
  },
  {
   "cell_type": "code",
   "execution_count": 9,
   "metadata": {},
   "outputs": [
    {
     "name": "stdout",
     "output_type": "stream",
     "text": [
      "Accuracy of the network on the 10000 test images: 92.97 %\n"
     ]
    }
   ],
   "source": [
    "correct = 0\n",
    "total = 0\n",
    "net.TestMode()\n",
    "for data in testloader:\n",
    "    images, labels = data\n",
    "    outputs = net(Variable(images.cuda()))\n",
    "    _, predicted = torch.max(outputs.data, 1)\n",
    "    total += labels.size(0)\n",
    "    correct += (predicted == labels.cuda()).sum()\n",
    "\n",
    "print('Accuracy of the network on the 10000 test images: %4.2f %%' % (100 * correct / total))"
   ]
  },
  {
   "cell_type": "code",
   "execution_count": 10,
   "metadata": {
    "scrolled": true
   },
   "outputs": [],
   "source": [
    "torch.save(net.GetStateDict(), pretrained_model)"
   ]
  }
 ],
 "metadata": {
  "kernelspec": {
   "display_name": "Python 3",
   "language": "python",
   "name": "python3"
  },
  "language_info": {
   "codemirror_mode": {
    "name": "ipython",
    "version": 3
   },
   "file_extension": ".py",
   "mimetype": "text/x-python",
   "name": "python",
   "nbconvert_exporter": "python",
   "pygments_lexer": "ipython3",
   "version": "3.5.2"
  }
 },
 "nbformat": 4,
 "nbformat_minor": 2
}
